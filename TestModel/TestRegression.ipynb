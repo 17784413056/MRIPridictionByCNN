{
 "cells": [
  {
   "cell_type": "code",
   "execution_count": 1,
   "metadata": {},
   "outputs": [],
   "source": [
    "from pathlib import Path\n",
    "from typing import List\n",
    "import gzip\n",
    "import numpy as np\n",
    "import pandas as pd\n",
    "\n",
    "import torch.utils.data as Data \n",
    "import torch\n",
    "import matplotlib.pyplot as plt\n",
    "from torch import nn ,optim\n"
   ]
  },
  {
   "cell_type": "code",
   "execution_count": 2,
   "metadata": {},
   "outputs": [
    {
     "name": "stdout",
     "output_type": "stream",
     "text": [
      "GPU获取\n"
     ]
    }
   ],
   "source": [
    "if torch.cuda.is_available():\n",
    "    device=torch.device('cuda')\n",
    "    print(\"GPU获取\")"
   ]
  },
  {
   "cell_type": "code",
   "execution_count": 4,
   "metadata": {},
   "outputs": [],
   "source": [
    "data_participants_dir='E:/Data/participants1.tsv'#获取全部实验者的数据\n",
    "data_participants_tsv=pd.read_csv(data_participants_dir,sep='\\t')\n",
    "data_NoNaN=data_participants_tsv.dropna(axis=0,how='any')#去除NAN无效数据\n",
    "data_RA=data_NoNaN.raven_score.head(100)"
   ]
  },
  {
   "cell_type": "code",
   "execution_count": 5,
   "metadata": {},
   "outputs": [
    {
     "data": {
      "text/html": [
       "<div>\n",
       "<style scoped>\n",
       "    .dataframe tbody tr th:only-of-type {\n",
       "        vertical-align: middle;\n",
       "    }\n",
       "\n",
       "    .dataframe tbody tr th {\n",
       "        vertical-align: top;\n",
       "    }\n",
       "\n",
       "    .dataframe thead th {\n",
       "        text-align: right;\n",
       "    }\n",
       "</style>\n",
       "<table border=\"1\" class=\"dataframe\">\n",
       "  <thead>\n",
       "    <tr style=\"text-align: right;\">\n",
       "      <th></th>\n",
       "      <th>participant_id</th>\n",
       "      <th>age</th>\n",
       "      <th>sex</th>\n",
       "      <th>BMI</th>\n",
       "      <th>handedness</th>\n",
       "      <th>education_category</th>\n",
       "      <th>religious_now</th>\n",
       "      <th>raven_score</th>\n",
       "      <th>NEO_N</th>\n",
       "      <th>NEO_E</th>\n",
       "      <th>NEO_O</th>\n",
       "      <th>NEO_A</th>\n",
       "      <th>NEO_C</th>\n",
       "    </tr>\n",
       "  </thead>\n",
       "  <tbody>\n",
       "    <tr>\n",
       "      <th>0</th>\n",
       "      <td>sub-0001</td>\n",
       "      <td>26.25</td>\n",
       "      <td>F</td>\n",
       "      <td>24.0</td>\n",
       "      <td>right</td>\n",
       "      <td>applied</td>\n",
       "      <td>no</td>\n",
       "      <td>29.0</td>\n",
       "      <td>35</td>\n",
       "      <td>44</td>\n",
       "      <td>37</td>\n",
       "      <td>39</td>\n",
       "      <td>48</td>\n",
       "    </tr>\n",
       "    <tr>\n",
       "      <th>1</th>\n",
       "      <td>sub-0002</td>\n",
       "      <td>21.00</td>\n",
       "      <td>F</td>\n",
       "      <td>23.0</td>\n",
       "      <td>right</td>\n",
       "      <td>academic</td>\n",
       "      <td>no</td>\n",
       "      <td>27.0</td>\n",
       "      <td>27</td>\n",
       "      <td>53</td>\n",
       "      <td>40</td>\n",
       "      <td>48</td>\n",
       "      <td>34</td>\n",
       "    </tr>\n",
       "    <tr>\n",
       "      <th>2</th>\n",
       "      <td>sub-0003</td>\n",
       "      <td>23.00</td>\n",
       "      <td>M</td>\n",
       "      <td>22.0</td>\n",
       "      <td>right</td>\n",
       "      <td>academic</td>\n",
       "      <td>no</td>\n",
       "      <td>22.0</td>\n",
       "      <td>35</td>\n",
       "      <td>40</td>\n",
       "      <td>43</td>\n",
       "      <td>37</td>\n",
       "      <td>38</td>\n",
       "    </tr>\n",
       "    <tr>\n",
       "      <th>3</th>\n",
       "      <td>sub-0004</td>\n",
       "      <td>23.50</td>\n",
       "      <td>F</td>\n",
       "      <td>22.0</td>\n",
       "      <td>right</td>\n",
       "      <td>applied</td>\n",
       "      <td>no</td>\n",
       "      <td>21.0</td>\n",
       "      <td>29</td>\n",
       "      <td>47</td>\n",
       "      <td>41</td>\n",
       "      <td>48</td>\n",
       "      <td>41</td>\n",
       "    </tr>\n",
       "    <tr>\n",
       "      <th>4</th>\n",
       "      <td>sub-0005</td>\n",
       "      <td>21.75</td>\n",
       "      <td>M</td>\n",
       "      <td>19.0</td>\n",
       "      <td>ambidextrous</td>\n",
       "      <td>applied</td>\n",
       "      <td>no</td>\n",
       "      <td>28.0</td>\n",
       "      <td>26</td>\n",
       "      <td>35</td>\n",
       "      <td>40</td>\n",
       "      <td>38</td>\n",
       "      <td>45</td>\n",
       "    </tr>\n",
       "    <tr>\n",
       "      <th>...</th>\n",
       "      <td>...</td>\n",
       "      <td>...</td>\n",
       "      <td>...</td>\n",
       "      <td>...</td>\n",
       "      <td>...</td>\n",
       "      <td>...</td>\n",
       "      <td>...</td>\n",
       "      <td>...</td>\n",
       "      <td>...</td>\n",
       "      <td>...</td>\n",
       "      <td>...</td>\n",
       "      <td>...</td>\n",
       "      <td>...</td>\n",
       "    </tr>\n",
       "    <tr>\n",
       "      <th>211</th>\n",
       "      <td>sub-0212</td>\n",
       "      <td>20.50</td>\n",
       "      <td>F</td>\n",
       "      <td>29.0</td>\n",
       "      <td>ambidextrous</td>\n",
       "      <td>applied</td>\n",
       "      <td>no</td>\n",
       "      <td>19.0</td>\n",
       "      <td>24</td>\n",
       "      <td>44</td>\n",
       "      <td>29</td>\n",
       "      <td>47</td>\n",
       "      <td>41</td>\n",
       "    </tr>\n",
       "    <tr>\n",
       "      <th>212</th>\n",
       "      <td>sub-0213</td>\n",
       "      <td>19.75</td>\n",
       "      <td>M</td>\n",
       "      <td>26.0</td>\n",
       "      <td>right</td>\n",
       "      <td>applied</td>\n",
       "      <td>no</td>\n",
       "      <td>18.0</td>\n",
       "      <td>20</td>\n",
       "      <td>50</td>\n",
       "      <td>40</td>\n",
       "      <td>46</td>\n",
       "      <td>39</td>\n",
       "    </tr>\n",
       "    <tr>\n",
       "      <th>213</th>\n",
       "      <td>sub-0214</td>\n",
       "      <td>19.50</td>\n",
       "      <td>M</td>\n",
       "      <td>19.0</td>\n",
       "      <td>right</td>\n",
       "      <td>applied</td>\n",
       "      <td>no</td>\n",
       "      <td>19.0</td>\n",
       "      <td>24</td>\n",
       "      <td>50</td>\n",
       "      <td>37</td>\n",
       "      <td>46</td>\n",
       "      <td>56</td>\n",
       "    </tr>\n",
       "    <tr>\n",
       "      <th>214</th>\n",
       "      <td>sub-0215</td>\n",
       "      <td>18.25</td>\n",
       "      <td>F</td>\n",
       "      <td>20.0</td>\n",
       "      <td>right</td>\n",
       "      <td>applied</td>\n",
       "      <td>yes</td>\n",
       "      <td>24.0</td>\n",
       "      <td>33</td>\n",
       "      <td>42</td>\n",
       "      <td>42</td>\n",
       "      <td>41</td>\n",
       "      <td>48</td>\n",
       "    </tr>\n",
       "    <tr>\n",
       "      <th>215</th>\n",
       "      <td>sub-0216</td>\n",
       "      <td>20.50</td>\n",
       "      <td>F</td>\n",
       "      <td>21.0</td>\n",
       "      <td>right</td>\n",
       "      <td>academic</td>\n",
       "      <td>no</td>\n",
       "      <td>21.0</td>\n",
       "      <td>40</td>\n",
       "      <td>35</td>\n",
       "      <td>42</td>\n",
       "      <td>47</td>\n",
       "      <td>39</td>\n",
       "    </tr>\n",
       "  </tbody>\n",
       "</table>\n",
       "<p>208 rows × 13 columns</p>\n",
       "</div>"
      ],
      "text/plain": [
       "    participant_id    age sex   BMI    handedness education_category  \\\n",
       "0         sub-0001  26.25   F  24.0         right            applied   \n",
       "1         sub-0002  21.00   F  23.0         right           academic   \n",
       "2         sub-0003  23.00   M  22.0         right           academic   \n",
       "3         sub-0004  23.50   F  22.0         right            applied   \n",
       "4         sub-0005  21.75   M  19.0  ambidextrous            applied   \n",
       "..             ...    ...  ..   ...           ...                ...   \n",
       "211       sub-0212  20.50   F  29.0  ambidextrous            applied   \n",
       "212       sub-0213  19.75   M  26.0         right            applied   \n",
       "213       sub-0214  19.50   M  19.0         right            applied   \n",
       "214       sub-0215  18.25   F  20.0         right            applied   \n",
       "215       sub-0216  20.50   F  21.0         right           academic   \n",
       "\n",
       "    religious_now  raven_score  NEO_N  NEO_E  NEO_O  NEO_A  NEO_C  \n",
       "0              no         29.0     35     44     37     39     48  \n",
       "1              no         27.0     27     53     40     48     34  \n",
       "2              no         22.0     35     40     43     37     38  \n",
       "3              no         21.0     29     47     41     48     41  \n",
       "4              no         28.0     26     35     40     38     45  \n",
       "..            ...          ...    ...    ...    ...    ...    ...  \n",
       "211            no         19.0     24     44     29     47     41  \n",
       "212            no         18.0     20     50     40     46     39  \n",
       "213            no         19.0     24     50     37     46     56  \n",
       "214           yes         24.0     33     42     42     41     48  \n",
       "215            no         21.0     40     35     42     47     39  \n",
       "\n",
       "[208 rows x 13 columns]"
      ]
     },
     "execution_count": 5,
     "metadata": {},
     "output_type": "execute_result"
    }
   ],
   "source": [
    "data_NoNaN"
   ]
  },
  {
   "cell_type": "code",
   "execution_count": null,
   "metadata": {},
   "outputs": [],
   "source": [
    "spatial_map_trian = np.load('/input/spatial_map_2train.npy')#获取样本数据\n",
    "len(spatial_map_trian)"
   ]
  },
  {
   "cell_type": "code",
   "execution_count": null,
   "metadata": {},
   "outputs": [],
   "source": []
  },
  {
   "cell_type": "code",
   "execution_count": null,
   "metadata": {},
   "outputs": [],
   "source": [
    "def create_data_iter(data,target,bs):\n",
    "    train_target=torch.tensor(target,dtype=torch.float)\n",
    "    spatial_map_trian=torch.tensor(data, dtype=torch.float)#转化成tensor类别\n",
    "    batch_size=bs\n",
    "    dataset = Data.TensorDataset(spatial_map_trian, train_target)\n",
    "    data_iter = Data.DataLoader(dataset, batch_size, shuffle=True)\n",
    "    return data_iter\n",
    "    "
   ]
  },
  {
   "cell_type": "code",
   "execution_count": null,
   "metadata": {},
   "outputs": [],
   "source": [
    "batch_size=20\n",
    "data_iter=create_data_iter(spatial_map_trian,data_RA,batch_size)"
   ]
  },
  {
   "cell_type": "code",
   "execution_count": null,
   "metadata": {},
   "outputs": [],
   "source": [
    "class AlexNet(nn.Module):\n",
    "    def __init__(self):\n",
    "        super(AlexNet,self).__init__()\n",
    "        self.conv=nn.Sequential(\n",
    "            nn.Conv3d(1,4,12,4),#240*240*240->58*58*58\n",
    "            nn.BatchNorm3d(4),\n",
    "            nn.ReLU(),\n",
    "            nn.MaxPool3d(2,2),#58*58*58->29*29*29\n",
    "            nn.Conv3d(4,8,3,1,1),#29*29*29->29*29*29\n",
    "            nn.BatchNorm3d(8),\n",
    "            nn.ReLU(),\n",
    "            nn.MaxPool3d(2,2),#29*29*29->14*14*14\n",
    "            nn.Conv3d(8,16,3,1,1),#14*14*14->14*14*14\n",
    "            nn.BatchNorm3d(16),\n",
    "            nn.ReLU(),\n",
    "            nn.MaxPool3d(2,2),#14*14*14->7*7*7\n",
    "            nn.Conv3d(16,32,3,1,1),#7*7*7->7*7*7\n",
    "            nn.BatchNorm3d(32),\n",
    "            nn.ReLU(),\n",
    "            nn.MaxPool3d(2,2)#7*7*7->3*3*3\n",
    "            \n",
    "        )\n",
    "        self.fc=nn.Sequential(\n",
    "            nn.Linear(32*3*3*3,512),\n",
    "            nn.ReLU(),\n",
    "            nn.Dropout(0.5),\n",
    "            nn.Linear(512,64),\n",
    "            nn.ReLU(),\n",
    "            nn.Dropout(0.5),\n",
    "            nn.Linear(64,1)\n",
    "         )\n",
    "    def forward (self,img):\n",
    "        padding=nn.ConstantPad3d((10,10,0,0,0,0),0.0)\n",
    "        img=padding(img)\n",
    "        batch_size, x, y, z = img.shape\n",
    "        img = img.reshape(batch_size, 1, x, y, z)\n",
    "        feature=self.conv(img)\n",
    "        output=self.fc(feature.view(img.shape[0],-1))\n",
    "        return output\n",
    "\n",
    "net=AlexNet()"
   ]
  },
  {
   "cell_type": "code",
   "execution_count": null,
   "metadata": {},
   "outputs": [],
   "source": [
    "net=net.to(device)\n",
    "loss=nn.MSELoss()\n",
    "result=[]\n",
    "lr=0.001\n",
    "n=100/batch_size\n",
    "num_epoches=300\n",
    "optimizer=torch.optim.Adam(net.parameters(),lr=lr)\n",
    "for epoch in range(num_epoches):\n",
    "    train_l_sum =0.0\n",
    "    for X,y in data_iter:\n",
    "        X=X.to(device)\n",
    "        y=y.to(device)\n",
    "        y=y.reshape(len(y),-1)\n",
    "        y_hat=net(X)\n",
    "        l=loss(y_hat,y)\n",
    "        optimizer.zero_grad()\n",
    "        l.backward()\n",
    "        optimizer.step()\n",
    "        train_l_sum+=l.cpu().item()\n",
    "        \n",
    "    if(epoch%10==0):\n",
    "        result.append(train_l_sum / n)\n",
    "        print('epoch %d, loss %.4f'%(epoch + 1, train_l_sum / n))"
   ]
  },
  {
   "cell_type": "code",
   "execution_count": 2,
   "metadata": {},
   "outputs": [],
   "source": [
    "def evaluate_acc(data,net,bs):\n",
    "    test_l_sum,n=0.0,100/bs\n",
    "    for X,y in data:\n",
    "        \n",
    "        X=X.to(device)\n",
    "        y=y.to(device)\n",
    "        y=y.reshape(len(y),-1)\n",
    "        y_hat=net(X)\n",
    "        l=loss(y_hat,y)\n",
    "        test_l_sum+=l.cpu().item()\n",
    "    return test_l_sum / n"
   ]
  },
  {
   "cell_type": "code",
   "execution_count": 4,
   "metadata": {},
   "outputs": [],
   "source": [
    "data_RA2=data_NoNaN.raven_score.tail(100)\n",
    "data_RA2_array=np.array(data_RA2)"
   ]
  },
  {
   "cell_type": "code",
   "execution_count": null,
   "metadata": {},
   "outputs": [],
   "source": [
    "spatial_map_test = np.load('/input/spatial_map_2vaild.npy')"
   ]
  },
  {
   "cell_type": "code",
   "execution_count": null,
   "metadata": {},
   "outputs": [],
   "source": [
    "data_iter_test=create_data_iter(spatial_map_test,data_RA2_array,batch_size)"
   ]
  },
  {
   "cell_type": "code",
   "execution_count": null,
   "metadata": {},
   "outputs": [],
   "source": [
    "result_train=[]\n",
    "result_test=[]\n",
    "for i in range(10):\n",
    "    result_train.append(evaluate_acc(data_iter,net,batch_size))\n",
    "    result_test.append(evaluate_acc(data_iter_test,net,batch_size))"
   ]
  },
  {
   "cell_type": "code",
   "execution_count": null,
   "metadata": {},
   "outputs": [],
   "source": [
    "data_participants_dir='/input/participants2.tsv'#获取全部实验者的数据\n",
    "data_participants_tsv2=pd.read_csv(data_participants_dir,sep='\\t')\n",
    "data_NoNaN2=data_participants_tsv2.dropna(axis=0,how='any')#去除NAN无效数据\n",
    "data_RA3=data_NoNaN2.raven_score.tail(100)"
   ]
  },
  {
   "cell_type": "code",
   "execution_count": null,
   "metadata": {},
   "outputs": [],
   "source": [
    "spatial_map_vaild= np.load('/input/spatial_map_test.npy')#获取样本数据\n",
    "len(spatial_map_vaild)"
   ]
  },
  {
   "cell_type": "code",
   "execution_count": null,
   "metadata": {},
   "outputs": [],
   "source": [
    "del data_iter"
   ]
  },
  {
   "cell_type": "code",
   "execution_count": null,
   "metadata": {},
   "outputs": [],
   "source": [
    "data_RA3=data_NoNaN2.raven_score.tail(100)\n",
    "data_RA3_array=np.array(data_RA3)\n",
    "data_iter_vaild=create_data_iter(spatial_map_vaild,data_RA3_array,batch_size)"
   ]
  },
  {
   "cell_type": "code",
   "execution_count": null,
   "metadata": {},
   "outputs": [],
   "source": [
    "result_vaild=[]\n",
    "for i in range(10):\n",
    "    \n",
    "    result_vaild.append(evaluate_acc(data_iter_vaild,net,batch_size))"
   ]
  },
  {
   "cell_type": "code",
   "execution_count": null,
   "metadata": {},
   "outputs": [],
   "source": [
    "plt.rcParams['font.sans-serif']=['SimHei']\n",
    "plt.rcParams['axes.unicode_minus'] = False\n",
    "name_list=['1','2','3','4','5','6','7','8','9','10']\n",
    "width=0.4\n",
    "x =list(range(len(name_list)))  \n",
    "plt.plot(x, result_train, marker='o', mec='r', mfc='w',label='PIOP2train')\n",
    "plt.plot(x, result_test, marker='*', ms=10,label='PI0P2test')\n",
    "plt.plot(x, result_vaild, marker='^', ms=10,label='PI0P1test')\n",
    "plt.legend()  # 让图例生效"
   ]
  },
  {
   "cell_type": "code",
   "execution_count": null,
   "metadata": {},
   "outputs": [],
   "source": []
  },
  {
   "cell_type": "code",
   "execution_count": null,
   "metadata": {},
   "outputs": [],
   "source": []
  },
  {
   "cell_type": "code",
   "execution_count": null,
   "metadata": {},
   "outputs": [],
   "source": []
  },
  {
   "cell_type": "code",
   "execution_count": null,
   "metadata": {},
   "outputs": [],
   "source": []
  },
  {
   "cell_type": "code",
   "execution_count": null,
   "metadata": {},
   "outputs": [],
   "source": []
  },
  {
   "cell_type": "code",
   "execution_count": null,
   "metadata": {},
   "outputs": [],
   "source": []
  },
  {
   "cell_type": "code",
   "execution_count": null,
   "metadata": {},
   "outputs": [],
   "source": []
  },
  {
   "cell_type": "code",
   "execution_count": null,
   "metadata": {},
   "outputs": [],
   "source": []
  },
  {
   "cell_type": "code",
   "execution_count": null,
   "metadata": {},
   "outputs": [],
   "source": []
  },
  {
   "cell_type": "code",
   "execution_count": null,
   "metadata": {},
   "outputs": [],
   "source": []
  },
  {
   "cell_type": "code",
   "execution_count": null,
   "metadata": {},
   "outputs": [],
   "source": []
  },
  {
   "cell_type": "code",
   "execution_count": null,
   "metadata": {},
   "outputs": [],
   "source": []
  },
  {
   "cell_type": "code",
   "execution_count": null,
   "metadata": {},
   "outputs": [],
   "source": []
  },
  {
   "cell_type": "code",
   "execution_count": null,
   "metadata": {},
   "outputs": [],
   "source": []
  },
  {
   "cell_type": "code",
   "execution_count": null,
   "metadata": {},
   "outputs": [],
   "source": []
  },
  {
   "cell_type": "code",
   "execution_count": null,
   "metadata": {},
   "outputs": [],
   "source": []
  },
  {
   "cell_type": "code",
   "execution_count": null,
   "metadata": {},
   "outputs": [],
   "source": []
  },
  {
   "cell_type": "code",
   "execution_count": null,
   "metadata": {},
   "outputs": [],
   "source": []
  },
  {
   "cell_type": "code",
   "execution_count": null,
   "metadata": {},
   "outputs": [],
   "source": []
  },
  {
   "cell_type": "code",
   "execution_count": null,
   "metadata": {},
   "outputs": [],
   "source": []
  },
  {
   "cell_type": "code",
   "execution_count": null,
   "metadata": {},
   "outputs": [],
   "source": []
  },
  {
   "cell_type": "code",
   "execution_count": null,
   "metadata": {},
   "outputs": [],
   "source": []
  },
  {
   "cell_type": "code",
   "execution_count": null,
   "metadata": {},
   "outputs": [],
   "source": []
  },
  {
   "cell_type": "code",
   "execution_count": null,
   "metadata": {},
   "outputs": [],
   "source": []
  },
  {
   "cell_type": "code",
   "execution_count": null,
   "metadata": {},
   "outputs": [],
   "source": []
  },
  {
   "cell_type": "code",
   "execution_count": null,
   "metadata": {},
   "outputs": [],
   "source": []
  }
 ],
 "metadata": {
  "kernelspec": {
   "display_name": "Python 3",
   "language": "python",
   "name": "python3"
  },
  "language_info": {
   "codemirror_mode": {
    "name": "ipython",
    "version": 3
   },
   "file_extension": ".py",
   "mimetype": "text/x-python",
   "name": "python",
   "nbconvert_exporter": "python",
   "pygments_lexer": "ipython3",
   "version": "3.7.6"
  }
 },
 "nbformat": 4,
 "nbformat_minor": 4
}
