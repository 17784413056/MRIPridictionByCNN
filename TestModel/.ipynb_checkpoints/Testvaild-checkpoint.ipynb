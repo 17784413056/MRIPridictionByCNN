{
 "cells": [
  {
   "cell_type": "code",
   "execution_count": 1,
   "metadata": {},
   "outputs": [],
   "source": [
    "from pathlib import Path\n",
    "from typing import List\n",
    "import gzip\n",
    "import numpy as np\n",
    "import pandas as pd\n",
    "\n",
    "import torch.utils.data as Data \n",
    "import torch\n",
    "import matplotlib.pyplot as plt\n",
    "from torch import nn ,optim"
   ]
  },
  {
   "cell_type": "code",
   "execution_count": 2,
   "metadata": {},
   "outputs": [
    {
     "name": "stdout",
     "output_type": "stream",
     "text": [
      "GPU获取\n"
     ]
    }
   ],
   "source": [
    "if torch.cuda.is_available():\n",
    "    device=torch.device('cuda')\n",
    "    print(\"GPU获取\")"
   ]
  },
  {
   "cell_type": "code",
   "execution_count": null,
   "metadata": {},
   "outputs": [],
   "source": [
    "data_participants_dir='E:/Data/participants.tsv'#获取全部实验者的数据\n",
    "data_participants_tsv=pd.read_csv(data_participants_dir,sep='\\t')\n",
    "data_NoNaN=data_participants_tsv.dropna(axis=0,how='any')#去除NAN无效数据\n",
    "data_sex=data_NoNaN.sex.head(100)\n",
    "data_age=data_NoNaN.age.head(100)\n",
    "data_sex_code=[]\n",
    "data_sex"
   ]
  },
  {
   "cell_type": "code",
   "execution_count": null,
   "metadata": {},
   "outputs": [],
   "source": [
    "for i in data_sex:#将女性设置为1，男性设置为0\n",
    "    gender=[]\n",
    "    if(i==\"F\"):\n",
    "        data_sex_code.append(1)\n",
    "    else:\n",
    "        data_sex_code.append(0)\n",
    "    \n",
    "data_sex_code"
   ]
  },
  {
   "cell_type": "code",
   "execution_count": null,
   "metadata": {},
   "outputs": [],
   "source": [
    "data_gender=np.array(data_sex_code)\n",
    "type(data_gender)\n"
   ]
  },
  {
   "cell_type": "code",
   "execution_count": null,
   "metadata": {},
   "outputs": [],
   "source": [
    "spatial_map_trian = np.load('E:/Data/PIOP1/input/spatial_map_train.npy')#获取样本数据\n",
    "len(spatial_map_trian)\n"
   ]
  },
  {
   "cell_type": "code",
   "execution_count": null,
   "metadata": {},
   "outputs": [],
   "source": [
    "train_target=torch.tensor(data_gender,dtype=torch.float)\n",
    "spatial_map_trian=torch.tensor(spatial_map_trian, dtype=torch.float)#转化成tensor类别"
   ]
  },
  {
   "cell_type": "code",
   "execution_count": null,
   "metadata": {},
   "outputs": [],
   "source": [
    "batch_size=4\n",
    "dataset = Data.TensorDataset(spatial_map_trian, train_target)\n",
    "data_iter = Data.DataLoader(dataset, batch_size, shuffle=True)#创建DataLoader 方便读取数据\n"
   ]
  },
  {
   "cell_type": "code",
   "execution_count": null,
   "metadata": {},
   "outputs": [],
   "source": [
    "class AlexNet(nn.Module):\n",
    "    def __init__(self):\n",
    "        super(AlexNet,self).__init__()\n",
    "        self.conv=nn.Sequential(\n",
    "            nn.Conv3d(1,4,12,4),#240*240*240->58*58*58\n",
    "            nn.BatchNorm3d(4),\n",
    "            nn.ReLU(),\n",
    "            nn.MaxPool3d(2,2),#58*58*58->29*29*29\n",
    "            nn.Conv3d(4,8,3,1,1),#29*29*29->29*29*29\n",
    "            nn.BatchNorm3d(8),\n",
    "            nn.ReLU(),\n",
    "            nn.MaxPool3d(2,2),#29*29*29->14*14*14\n",
    "            nn.Conv3d(8,16,3,1,1),#14*14*14->14*14*14\n",
    "            nn.BatchNorm3d(16),\n",
    "            nn.ReLU(),\n",
    "            nn.MaxPool3d(2,2),#14*14*14->7*7*7\n",
    "            nn.Conv3d(16,32,3,1,1),#7*7*7->7*7*7\n",
    "            nn.BatchNorm3d(32),\n",
    "            nn.ReLU(),\n",
    "            nn.MaxPool3d(2,2)#7*7*7->3*3*3\n",
    "            \n",
    "        )\n",
    "        self.fc=nn.Sequential(\n",
    "            nn.Linear(32*3*3*3,512),\n",
    "            nn.ReLU(),\n",
    "            nn.Dropout(0.5),\n",
    "            nn.Linear(512,64),\n",
    "            nn.ReLU(),\n",
    "            nn.Dropout(0.5),\n",
    "            nn.Linear(64,2)#预测性别  \n",
    "         )\n",
    "    def forward (self,img):\n",
    "        padding=nn.ConstantPad3d((10,10,0,0,0,0),0.0)\n",
    "        img=padding(img)\n",
    "        batch_size, x, y, z = img.shape\n",
    "        img = img.reshape(batch_size, 1, x, y, z)\n",
    "        feature=self.conv(img)\n",
    "        output=self.fc(feature.view(img.shape[0],-1))\n",
    "        return output\n",
    "\n",
    "net=AlexNet()\n"
   ]
  },
  {
   "cell_type": "code",
   "execution_count": null,
   "metadata": {},
   "outputs": [],
   "source": [
    "net=net.to(device)\n",
    "loss=nn.CrossEntropyLoss()\n",
    "result=[]\n",
    "lr=0.001\n",
    "num_epoches=30\n",
    "optimizer=torch.optim.Adam(net.parameters(),lr=lr)\n",
    "for epoch in range(num_epoches):\n",
    "    train_l_sum, train_acc_sum, n=0.0,0.0,0\n",
    "    for X,y in data_iter:\n",
    "        X=X.to(device)\n",
    "        y=y.to(device)\n",
    "        y=y.long()\n",
    "        y_hat=net(X)\n",
    "        l=loss(y_hat,y)\n",
    "        optimizer.zero_grad()\n",
    "        l.backward()\n",
    "        optimizer.step()\n",
    "        train_l_sum+=l.cpu().item()\n",
    "        n+=y.shape[0]\n",
    "        train_acc_sum += (y_hat.argmax(dim=1) ==y).sum().cpu().item()\n",
    "    result.append(train_acc_sum / n)\n",
    "    print('epoch %d, loss %.4f,  train acc %.3f'%(epoch + 1, train_l_sum / n,train_acc_sum / n))"
   ]
  },
  {
   "cell_type": "code",
   "execution_count": null,
   "metadata": {},
   "outputs": [],
   "source": [
    "data_sex=data_NoNaN.sex.tail(100)\n",
    "data_age=data_NoNaN.age.tail(100)\n",
    "data_sex_code=[]\n",
    "data_sex\n"
   ]
  },
  {
   "cell_type": "code",
   "execution_count": null,
   "metadata": {},
   "outputs": [],
   "source": [
    "for i in data_sex:#将女性设置为1，男性设置为0\n",
    "    gender=[]\n",
    "    if(i==\"F\"):\n",
    "        data_sex_code.append(1)\n",
    "    else:\n",
    "        data_sex_code.append(0)\n",
    "    \n",
    "data_sex_code"
   ]
  },
  {
   "cell_type": "code",
   "execution_count": null,
   "metadata": {},
   "outputs": [],
   "source": [
    "data_gender=np.array(data_sex_code)\n",
    "type(data_gender)"
   ]
  },
  {
   "cell_type": "code",
   "execution_count": null,
   "metadata": {},
   "outputs": [],
   "source": [
    "spatial_map_test = np.load('/input/spatial_map_test.npy')#获取样本数据\n",
    "len(spatial_map_test)"
   ]
  },
  {
   "cell_type": "code",
   "execution_count": null,
   "metadata": {},
   "outputs": [],
   "source": [
    "train_target=torch.tensor(data_gender,dtype=torch.float)\n",
    "spatial_map_test=torch.tensor(spatial_map_test, dtype=torch.float)"
   ]
  },
  {
   "cell_type": "code",
   "execution_count": null,
   "metadata": {},
   "outputs": [],
   "source": [
    "batch_size=5\n",
    "dataset_test = Data.TensorDataset(spatial_map_test, train_target)\n",
    "data_iter_test = Data.DataLoader(dataset, batch_size, shuffle=True)"
   ]
  },
  {
   "cell_type": "code",
   "execution_count": null,
   "metadata": {},
   "outputs": [],
   "source": [
    "def evaluate_acc(data_iter,net):\n",
    "    test_acc_sum,n=0.0,0\n",
    "    for X,y in data_iter:\n",
    "        \n",
    "        X=X.to(device)\n",
    "        y=y.to(device)\n",
    "        y=y.long()\n",
    "        y_hat=net(X)\n",
    "        test_acc_sum += (y_hat.argmax(dim=1) ==y).sum().cpu().item()\n",
    "        n+=y.shape[0]\n",
    "    return test_acc_sum / n"
   ]
  },
  {
   "cell_type": "code",
   "execution_count": null,
   "metadata": {},
   "outputs": [],
   "source": [
    "accuray=evaluate_acc(data_iter_test,net)\n",
    "print(accuray)"
   ]
  },
  {
   "cell_type": "code",
   "execution_count": null,
   "metadata": {},
   "outputs": [],
   "source": []
  },
  {
   "cell_type": "code",
   "execution_count": null,
   "metadata": {},
   "outputs": [],
   "source": []
  },
  {
   "cell_type": "code",
   "execution_count": null,
   "metadata": {},
   "outputs": [],
   "source": []
  },
  {
   "cell_type": "code",
   "execution_count": null,
   "metadata": {},
   "outputs": [],
   "source": []
  },
  {
   "cell_type": "code",
   "execution_count": null,
   "metadata": {},
   "outputs": [],
   "source": []
  },
  {
   "cell_type": "code",
   "execution_count": null,
   "metadata": {},
   "outputs": [],
   "source": []
  },
  {
   "cell_type": "code",
   "execution_count": null,
   "metadata": {},
   "outputs": [],
   "source": []
  },
  {
   "cell_type": "code",
   "execution_count": null,
   "metadata": {},
   "outputs": [],
   "source": []
  }
 ],
 "metadata": {
  "kernelspec": {
   "display_name": "Python 3",
   "language": "python",
   "name": "python3"
  },
  "language_info": {
   "codemirror_mode": {
    "name": "ipython",
    "version": 3
   },
   "file_extension": ".py",
   "mimetype": "text/x-python",
   "name": "python",
   "nbconvert_exporter": "python",
   "pygments_lexer": "ipython3",
   "version": "3.7.6"
  }
 },
 "nbformat": 4,
 "nbformat_minor": 4
}
