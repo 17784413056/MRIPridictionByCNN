{
 "cells": [
  {
   "cell_type": "code",
   "execution_count": 1,
   "metadata": {},
   "outputs": [],
   "source": [
    "from pathlib import Path\n",
    "from typing import List\n",
    "import gzip\n",
    "import numpy as np\n",
    "import pandas as pd\n",
    "\n",
    "import torch.utils.data as Data \n",
    "import torch\n",
    "import matplotlib.pyplot as plt\n",
    "from torch import nn ,optim\n",
    "from nilearn.image import smooth_img"
   ]
  },
  {
   "cell_type": "code",
   "execution_count": 2,
   "metadata": {},
   "outputs": [
    {
     "name": "stdout",
     "output_type": "stream",
     "text": [
      "GPU获取\n"
     ]
    }
   ],
   "source": [
    "if torch.cuda.is_available():\n",
    "    device=torch.device('cuda')\n",
    "    print(\"GPU获取\")"
   ]
  },
  {
   "cell_type": "code",
   "execution_count": 3,
   "metadata": {},
   "outputs": [
    {
     "name": "stdout",
     "output_type": "stream",
     "text": [
      "sub-0001\n",
      "sub-0002\n",
      "sub-0003\n",
      "sub-0004\n",
      "sub-0005\n",
      "sub-0006\n",
      "sub-0007\n",
      "sub-0008\n",
      "sub-0009\n",
      "sub-0010\n",
      "sub-0011\n",
      "sub-0012\n",
      "sub-0013\n",
      "sub-0014\n",
      "sub-0015\n",
      "sub-0016\n",
      "sub-0017\n",
      "sub-0018\n",
      "sub-0019\n",
      "sub-0020\n",
      "sub-0021\n",
      "sub-0022\n",
      "sub-0023\n",
      "sub-0024\n",
      "sub-0025\n",
      "sub-0026\n",
      "sub-0027\n",
      "sub-0028\n",
      "sub-0029\n",
      "sub-0030\n",
      "sub-0031\n",
      "sub-0032\n",
      "sub-0033\n",
      "sub-0034\n",
      "sub-0035\n",
      "sub-0036\n",
      "sub-0037\n",
      "sub-0038\n",
      "sub-0039\n",
      "sub-0040\n",
      "sub-0041\n",
      "sub-0042\n",
      "sub-0043\n",
      "sub-0044\n",
      "sub-0045\n",
      "sub-0046\n",
      "sub-0047\n",
      "sub-0048\n",
      "sub-0049\n",
      "sub-0050\n",
      "sub-0051\n",
      "sub-0052\n",
      "sub-0053\n",
      "sub-0054\n",
      "sub-0055\n",
      "sub-0056\n",
      "sub-0057\n",
      "sub-0058\n",
      "sub-0059\n",
      "sub-0060\n",
      "sub-0061\n",
      "sub-0062\n",
      "sub-0063\n",
      "sub-0064\n",
      "sub-0065\n",
      "sub-0066\n",
      "sub-0067\n",
      "sub-0068\n",
      "sub-0069\n",
      "sub-0070\n",
      "sub-0071\n",
      "sub-0072\n",
      "sub-0073\n",
      "sub-0074\n",
      "sub-0075\n",
      "sub-0076\n",
      "sub-0077\n",
      "sub-0078\n",
      "sub-0079\n",
      "sub-0080\n",
      "sub-0081\n",
      "sub-0082\n",
      "sub-0083\n",
      "sub-0084\n",
      "sub-0085\n",
      "sub-0086\n",
      "sub-0087\n",
      "sub-0088\n",
      "sub-0089\n",
      "sub-0090\n",
      "sub-0091\n",
      "sub-0092\n",
      "sub-0093\n",
      "sub-0094\n",
      "sub-0095\n",
      "sub-0096\n",
      "sub-0097\n",
      "sub-0098\n",
      "sub-0099\n",
      "sub-0100\n",
      "sub-0101\n",
      "sub-0102\n",
      "sub-0103\n",
      "sub-0104\n",
      "sub-0106\n",
      "sub-0107\n",
      "sub-0108\n",
      "sub-0109\n",
      "sub-0110\n",
      "sub-0111\n",
      "sub-0112\n",
      "sub-0113\n",
      "sub-0114\n",
      "sub-0115\n",
      "sub-0116\n",
      "sub-0117\n",
      "sub-0118\n",
      "sub-0119\n",
      "sub-0120\n",
      "sub-0121\n",
      "sub-0122\n",
      "sub-0123\n",
      "sub-0124\n",
      "sub-0125\n",
      "sub-0126\n",
      "sub-0127\n",
      "sub-0128\n",
      "sub-0129\n",
      "sub-0130\n",
      "sub-0131\n",
      "sub-0132\n",
      "sub-0133\n",
      "sub-0134\n",
      "sub-0135\n",
      "sub-0136\n",
      "sub-0137\n",
      "sub-0138\n",
      "sub-0139\n",
      "sub-0140\n",
      "sub-0141\n",
      "sub-0142\n",
      "sub-0143\n",
      "sub-0144\n",
      "sub-0145\n",
      "sub-0146\n",
      "sub-0147\n",
      "sub-0148\n",
      "sub-0149\n",
      "sub-0150\n",
      "sub-0151\n",
      "sub-0152\n",
      "sub-0153\n",
      "sub-0154\n",
      "sub-0155\n",
      "sub-0156\n",
      "sub-0157\n",
      "sub-0158\n",
      "sub-0159\n",
      "sub-0160\n",
      "sub-0161\n",
      "sub-0162\n",
      "sub-0163\n",
      "sub-0164\n",
      "sub-0165\n",
      "sub-0166\n",
      "sub-0167\n",
      "sub-0168\n",
      "sub-0169\n",
      "sub-0170\n",
      "sub-0171\n",
      "sub-0172\n",
      "sub-0173\n",
      "sub-0174\n",
      "sub-0175\n",
      "sub-0176\n",
      "sub-0177\n",
      "sub-0178\n",
      "sub-0179\n",
      "sub-0180\n",
      "sub-0181\n",
      "sub-0182\n",
      "sub-0183\n",
      "sub-0184\n",
      "sub-0185\n",
      "sub-0186\n",
      "sub-0187\n",
      "sub-0188\n",
      "sub-0189\n",
      "sub-0190\n",
      "sub-0191\n",
      "sub-0192\n",
      "sub-0193\n",
      "sub-0194\n",
      "sub-0195\n",
      "sub-0196\n",
      "sub-0197\n",
      "sub-0198\n",
      "sub-0200\n",
      "sub-0201\n",
      "sub-0202\n",
      "sub-0203\n",
      "sub-0204\n",
      "sub-0205\n",
      "sub-0206\n",
      "sub-0207\n",
      "sub-0208\n",
      "sub-0209\n",
      "sub-0210\n",
      "sub-0211\n",
      "sub-0212\n",
      "sub-0213\n",
      "sub-0214\n",
      "sub-0215\n",
      "sub-0216\n",
      "sub-0217\n",
      "sub-0218\n",
      "sub-0219\n",
      "sub-0220\n",
      "sub-0221\n",
      "sub-0222\n",
      "sub-0223\n",
      "sub-0224\n",
      "sub-0225\n",
      "sub-0226\n"
     ]
    }
   ],
   "source": [
    "data_participants_dir='E:/Data/participants2.tsv'#获取全部实验者的数据\n",
    "data_participants_tsv=pd.read_csv(data_participants_dir,sep='\\t')\n",
    "data_NoNaN=data_participants_tsv.dropna(axis=0,how='any')#去除NAN无效数据\n",
    "data_id=data_NoNaN.participant_id\n",
    "data_age=data_NoNaN.age\n",
    "data_age.head(10)\n",
    "age=np.array(data_age.head(10))#获取标签数据\n",
    "for i in data_id:\n",
    "    print(i)\n"
   ]
  },
  {
   "cell_type": "code",
   "execution_count": 5,
   "metadata": {},
   "outputs": [
    {
     "data": {
      "text/plain": [
       "100"
      ]
     },
     "execution_count": 5,
     "metadata": {},
     "output_type": "execute_result"
    }
   ],
   "source": [
    "spatial_map_trian = np.load('E:/Data/PIOP2/input/spatial_map_2vaild.npy')#获取样本数据\n",
    "len(spatial_map_trian)\n"
   ]
  },
  {
   "cell_type": "code",
   "execution_count": 10,
   "metadata": {},
   "outputs": [
    {
     "data": {
      "text/plain": [
       "array([1.5550722e+02, 1.6051096e+02, 1.6746649e+02, 1.8111266e+02,\n",
       "       2.0508742e+02, 2.3431653e+02, 2.6440894e+02, 2.9630072e+02,\n",
       "       3.3402170e+02, 3.9354492e+02, 4.9795706e+02, 6.5132300e+02,\n",
       "       8.4668243e+02, 1.0903646e+03, 1.4029519e+03, 1.8022197e+03,\n",
       "       2.2708413e+03, 2.7853955e+03, 3.3742656e+03, 4.0791562e+03,\n",
       "       4.8982573e+03, 5.8185659e+03, 6.8258232e+03, 7.8227915e+03,\n",
       "       8.7117188e+03, 9.5642363e+03, 1.0514078e+04, 1.1550799e+04,\n",
       "       1.2594037e+04, 1.3646193e+04, 1.4696127e+04, 1.5564719e+04,\n",
       "       1.6049117e+04, 1.6156082e+04, 1.5909973e+04, 1.5100750e+04,\n",
       "       1.3608547e+04, 1.1835377e+04, 1.0445409e+04, 9.6628428e+03,\n",
       "       9.1642021e+03, 8.6503770e+03, 8.1093105e+03, 7.6116099e+03,\n",
       "       7.2292544e+03, 7.0839517e+03, 7.2490640e+03, 7.6492578e+03,\n",
       "       8.0921567e+03, 8.3982207e+03, 8.5543828e+03, 8.6892656e+03,\n",
       "       8.9000654e+03, 9.1574365e+03, 9.3283467e+03, 9.2279023e+03,\n",
       "       8.6687695e+03, 7.5823838e+03, 6.1486377e+03, 4.7589927e+03,\n",
       "       3.7985137e+03, 3.4266426e+03, 3.5695415e+03, 4.0564790e+03,\n",
       "       4.7551270e+03, 5.6901733e+03, 7.0342544e+03, 8.9237275e+03,\n",
       "       1.1262303e+04, 1.3691212e+04, 1.5783714e+04, 1.7315896e+04,\n",
       "       1.8306203e+04, 1.8850758e+04, 1.9035994e+04, 1.8935459e+04,\n",
       "       1.8583924e+04, 1.7988811e+04, 1.7226840e+04, 1.6529197e+04,\n",
       "       1.6178208e+04, 1.6216750e+04, 1.6327907e+04, 1.6101790e+04,\n",
       "       1.5389576e+04, 1.4410049e+04, 1.3677899e+04, 1.3750334e+04,\n",
       "       1.4805576e+04, 1.6439393e+04, 1.7926738e+04, 1.8722459e+04,\n",
       "       1.8764057e+04, 1.8380229e+04, 1.7975695e+04, 1.7764213e+04,\n",
       "       1.7679633e+04, 1.7476441e+04, 1.6912861e+04, 1.5837650e+04,\n",
       "       1.4194274e+04, 1.2144931e+04, 1.0180384e+04, 8.8659971e+03,\n",
       "       8.4002568e+03, 8.4863389e+03, 8.6615801e+03, 8.7260977e+03,\n",
       "       8.8414902e+03, 9.2856445e+03, 1.0139577e+04, 1.1197203e+04,\n",
       "       1.2132395e+04, 1.2709331e+04, 1.2869032e+04, 1.2674701e+04,\n",
       "       1.2218644e+04, 1.1584273e+04, 1.0819781e+04, 9.9185137e+03,\n",
       "       8.8957969e+03, 7.8357227e+03, 6.8025098e+03, 5.8236528e+03,\n",
       "       4.9582729e+03, 4.2838008e+03, 3.8644326e+03, 3.7790112e+03,\n",
       "       4.1314414e+03, 4.9470840e+03, 6.0607534e+03, 7.1951968e+03,\n",
       "       8.0574106e+03, 8.4210361e+03, 8.3103691e+03, 8.0418662e+03,\n",
       "       8.0419131e+03, 8.6066572e+03, 9.7539238e+03, 1.1191120e+04,\n",
       "       1.2370477e+04, 1.2829937e+04, 1.2600874e+04, 1.2006326e+04,\n",
       "       1.1131439e+04, 9.7679004e+03, 7.8018896e+03, 5.5161230e+03,\n",
       "       3.4355098e+03, 1.9098632e+03, 9.7408557e+02, 4.9387912e+02,\n",
       "       2.8617020e+02, 1.9770998e+02, 1.4606241e+02, 1.0472649e+02,\n",
       "       7.3798866e+01, 5.1031368e+01, 3.0879482e+01, 1.4553650e+01,\n",
       "       4.9902310e+00, 1.2006204e+00, 1.9953887e-01, 2.2991719e-02,\n",
       "       1.9336912e-03, 1.6508356e-04, 1.9409510e-05, 1.9422960e-06,\n",
       "       1.0797705e-07, 0.0000000e+00, 0.0000000e+00, 0.0000000e+00,\n",
       "       0.0000000e+00, 0.0000000e+00, 0.0000000e+00, 0.0000000e+00,\n",
       "       0.0000000e+00, 0.0000000e+00, 0.0000000e+00, 0.0000000e+00,\n",
       "       0.0000000e+00, 0.0000000e+00, 0.0000000e+00, 0.0000000e+00,\n",
       "       0.0000000e+00, 0.0000000e+00, 0.0000000e+00, 0.0000000e+00,\n",
       "       0.0000000e+00, 0.0000000e+00, 3.2928067e-05, 5.2689994e-04,\n",
       "       4.5530414e-03, 2.1248261e-02, 5.3557396e-02, 7.2918527e-02,\n",
       "       5.3637363e-02, 2.1324161e-02, 4.5851464e-03, 5.3390436e-04,\n",
       "       3.3744633e-05, 8.6759917e-07, 1.3065018e-05, 1.1288796e-04,\n",
       "       5.2674825e-04, 1.3273222e-03, 1.8062067e-03, 1.3273222e-03,\n",
       "       5.2674825e-04, 1.1288796e-04, 1.3065018e-05, 8.1656390e-07,\n",
       "       3.8709622e-04, 8.4962668e-03, 9.0745859e-02, 5.7463491e-01,\n",
       "       2.1766768e+00, 4.9397702e+00, 6.9262276e+00, 7.0171876e+00],\n",
       "      dtype=float32)"
      ]
     },
     "execution_count": 10,
     "metadata": {},
     "output_type": "execute_result"
    }
   ],
   "source": [
    "smoothed_img = smooth_img(\"E:/Data/PIOP2/sub-0226/anat/sub-0226_T1w.nii\", fwhm=3)\n",
    "smoothed_array=np.array(smoothed_img.dataobj)\n",
    "smoothed_array[99][44]"
   ]
  },
  {
   "cell_type": "code",
   "execution_count": 11,
   "metadata": {},
   "outputs": [
    {
     "data": {
      "text/plain": [
       "array([1.5550722e+02, 1.6051096e+02, 1.6746649e+02, 1.8111266e+02,\n",
       "       2.0508742e+02, 2.3431653e+02, 2.6440894e+02, 2.9630072e+02,\n",
       "       3.3402170e+02, 3.9354492e+02, 4.9795706e+02, 6.5132300e+02,\n",
       "       8.4668243e+02, 1.0903646e+03, 1.4029519e+03, 1.8022197e+03,\n",
       "       2.2708413e+03, 2.7853955e+03, 3.3742656e+03, 4.0791562e+03,\n",
       "       4.8982573e+03, 5.8185659e+03, 6.8258232e+03, 7.8227915e+03,\n",
       "       8.7117188e+03, 9.5642363e+03, 1.0514078e+04, 1.1550799e+04,\n",
       "       1.2594037e+04, 1.3646193e+04, 1.4696127e+04, 1.5564719e+04,\n",
       "       1.6049117e+04, 1.6156082e+04, 1.5909973e+04, 1.5100750e+04,\n",
       "       1.3608547e+04, 1.1835377e+04, 1.0445409e+04, 9.6628428e+03,\n",
       "       9.1642021e+03, 8.6503770e+03, 8.1093105e+03, 7.6116099e+03,\n",
       "       7.2292544e+03, 7.0839517e+03, 7.2490640e+03, 7.6492578e+03,\n",
       "       8.0921567e+03, 8.3982207e+03, 8.5543828e+03, 8.6892656e+03,\n",
       "       8.9000654e+03, 9.1574365e+03, 9.3283467e+03, 9.2279023e+03,\n",
       "       8.6687695e+03, 7.5823838e+03, 6.1486377e+03, 4.7589927e+03,\n",
       "       3.7985137e+03, 3.4266426e+03, 3.5695415e+03, 4.0564790e+03,\n",
       "       4.7551270e+03, 5.6901733e+03, 7.0342544e+03, 8.9237275e+03,\n",
       "       1.1262303e+04, 1.3691212e+04, 1.5783714e+04, 1.7315896e+04,\n",
       "       1.8306203e+04, 1.8850758e+04, 1.9035994e+04, 1.8935459e+04,\n",
       "       1.8583924e+04, 1.7988811e+04, 1.7226840e+04, 1.6529197e+04,\n",
       "       1.6178208e+04, 1.6216750e+04, 1.6327907e+04, 1.6101790e+04,\n",
       "       1.5389576e+04, 1.4410049e+04, 1.3677899e+04, 1.3750334e+04,\n",
       "       1.4805576e+04, 1.6439393e+04, 1.7926738e+04, 1.8722459e+04,\n",
       "       1.8764057e+04, 1.8380229e+04, 1.7975695e+04, 1.7764213e+04,\n",
       "       1.7679633e+04, 1.7476441e+04, 1.6912861e+04, 1.5837650e+04,\n",
       "       1.4194274e+04, 1.2144931e+04, 1.0180384e+04, 8.8659971e+03,\n",
       "       8.4002568e+03, 8.4863389e+03, 8.6615801e+03, 8.7260977e+03,\n",
       "       8.8414902e+03, 9.2856445e+03, 1.0139577e+04, 1.1197203e+04,\n",
       "       1.2132395e+04, 1.2709331e+04, 1.2869032e+04, 1.2674701e+04,\n",
       "       1.2218644e+04, 1.1584273e+04, 1.0819781e+04, 9.9185137e+03,\n",
       "       8.8957969e+03, 7.8357227e+03, 6.8025098e+03, 5.8236528e+03,\n",
       "       4.9582729e+03, 4.2838008e+03, 3.8644326e+03, 3.7790112e+03,\n",
       "       4.1314414e+03, 4.9470840e+03, 6.0607534e+03, 7.1951968e+03,\n",
       "       8.0574106e+03, 8.4210361e+03, 8.3103691e+03, 8.0418662e+03,\n",
       "       8.0419131e+03, 8.6066572e+03, 9.7539238e+03, 1.1191120e+04,\n",
       "       1.2370477e+04, 1.2829937e+04, 1.2600874e+04, 1.2006326e+04,\n",
       "       1.1131439e+04, 9.7679004e+03, 7.8018896e+03, 5.5161230e+03,\n",
       "       3.4355098e+03, 1.9098632e+03, 9.7408557e+02, 4.9387912e+02,\n",
       "       2.8617020e+02, 1.9770998e+02, 1.4606241e+02, 1.0472649e+02,\n",
       "       7.3798866e+01, 5.1031368e+01, 3.0879482e+01, 1.4553650e+01,\n",
       "       4.9902310e+00, 1.2006204e+00, 1.9953887e-01, 2.2991719e-02,\n",
       "       1.9336912e-03, 1.6508356e-04, 1.9409510e-05, 1.9422960e-06,\n",
       "       1.0797705e-07, 0.0000000e+00, 0.0000000e+00, 0.0000000e+00,\n",
       "       0.0000000e+00, 0.0000000e+00, 0.0000000e+00, 0.0000000e+00,\n",
       "       0.0000000e+00, 0.0000000e+00, 0.0000000e+00, 0.0000000e+00,\n",
       "       0.0000000e+00, 0.0000000e+00, 0.0000000e+00, 0.0000000e+00,\n",
       "       0.0000000e+00, 0.0000000e+00, 0.0000000e+00, 0.0000000e+00,\n",
       "       0.0000000e+00, 0.0000000e+00, 3.2928067e-05, 5.2689994e-04,\n",
       "       4.5530414e-03, 2.1248261e-02, 5.3557396e-02, 7.2918527e-02,\n",
       "       5.3637363e-02, 2.1324161e-02, 4.5851464e-03, 5.3390436e-04,\n",
       "       3.3744633e-05, 8.6759917e-07, 1.3065018e-05, 1.1288796e-04,\n",
       "       5.2674825e-04, 1.3273222e-03, 1.8062067e-03, 1.3273222e-03,\n",
       "       5.2674825e-04, 1.1288796e-04, 1.3065018e-05, 8.1656390e-07,\n",
       "       3.8709622e-04, 8.4962668e-03, 9.0745859e-02, 5.7463491e-01,\n",
       "       2.1766768e+00, 4.9397702e+00, 6.9262276e+00, 7.0171876e+00],\n",
       "      dtype=float32)"
      ]
     },
     "execution_count": 11,
     "metadata": {},
     "output_type": "execute_result"
    }
   ],
   "source": [
    "spatial_map_trian[99][99][44]"
   ]
  },
  {
   "cell_type": "code",
   "execution_count": 47,
   "metadata": {},
   "outputs": [
    {
     "name": "stderr",
     "output_type": "stream",
     "text": [
      "D:\\estudy\\anaconda\\lib\\site-packages\\ipykernel_launcher.py:2: UserWarning: To copy construct from a tensor, it is recommended to use sourceTensor.clone().detach() or sourceTensor.clone().detach().requires_grad_(True), rather than torch.tensor(sourceTensor).\n",
      "  \n"
     ]
    }
   ],
   "source": [
    "train_target=torch.tensor(age,dtype=torch.float)\n",
    "spatial_map_trian=torch.tensor(spatial_map_trian, dtype=torch.float)#转化成tensor类别"
   ]
  },
  {
   "cell_type": "code",
   "execution_count": 49,
   "metadata": {},
   "outputs": [
    {
     "name": "stdout",
     "output_type": "stream",
     "text": [
      "torch.Size([4, 240, 240, 220]) 4\n"
     ]
    }
   ],
   "source": [
    "batch_size=4\n",
    "dataset = Data.TensorDataset(spatial_map_trian, train_target)\n",
    "data_iter = Data.DataLoader(dataset, batch_size, shuffle=True)#创建DataLoader 方便读取数据\n",
    "for X,y in data_iter:\n",
    "    print(X.shape,len(y))\n",
    "    break"
   ]
  },
  {
   "cell_type": "code",
   "execution_count": 74,
   "metadata": {},
   "outputs": [],
   "source": [
    "class AlexNet(nn.Module):\n",
    "    def __init__(self):\n",
    "        super(AlexNet,self).__init__()\n",
    "        self.conv=nn.Sequential(\n",
    "            nn.Conv3d(1,4,12,4),#240*240*240->58*58*58\n",
    "            nn.BatchNorm3d(4),\n",
    "            nn.ReLU(),\n",
    "            nn.MaxPool3d(2,2),#58*58*58->29*29*29\n",
    "            nn.Conv3d(4,8,3,1,1),#29*29*29->29*29*29\n",
    "            nn.BatchNorm3d(8),\n",
    "            nn.ReLU(),\n",
    "            nn.MaxPool3d(2,2),#29*29*29->14*14*14\n",
    "            nn.Conv3d(8,16,3,1,1),#14*14*14->14*14*14\n",
    "            nn.BatchNorm3d(16),\n",
    "            nn.ReLU(),\n",
    "            nn.MaxPool3d(2,2),#14*14*14->7*7*7\n",
    "            nn.Conv3d(16,32,3,1,1),#7*7*7->7*7*7\n",
    "            nn.BatchNorm3d(32),\n",
    "            nn.ReLU(),\n",
    "            nn.MaxPool3d(2,2)#7*7*7->3*3*3\n",
    "            \n",
    "        )\n",
    "        self.fc=nn.Sequential(\n",
    "            nn.Linear(32*3*3*3,512),\n",
    "            nn.ReLU(),\n",
    "            nn.Dropout(0.5),\n",
    "            nn.Linear(512,64),\n",
    "            nn.ReLU(),\n",
    "            nn.Dropout(0.5),\n",
    "            nn.Linear(64,1)\n",
    "         )\n",
    "    def forward (self,img):\n",
    "        padding=nn.ConstantPad3d((10,10,0,0,0,0),0.0)\n",
    "        img=padding(img)\n",
    "        batch_size, x, y, z = img.shape\n",
    "        img = img.reshape(batch_size, 1, x, y, z)\n",
    "        feature=self.conv(img)\n",
    "        output=self.fc(feature.view(img.shape[0],-1))\n",
    "        return output\n",
    "\n",
    "net=AlexNet()"
   ]
  },
  {
   "cell_type": "code",
   "execution_count": 75,
   "metadata": {},
   "outputs": [
    {
     "data": {
      "text/plain": [
       "torch.Size([1, 1])"
      ]
     },
     "execution_count": 75,
     "metadata": {},
     "output_type": "execute_result"
    }
   ],
   "source": [
    "output=net(x)\n",
    "output.shape"
   ]
  },
  {
   "cell_type": "code",
   "execution_count": null,
   "metadata": {},
   "outputs": [],
   "source": [
    "net=net.to(device)\n",
    "loss=nn.MSELoss()\n",
    "result=[]\n",
    "lr=0.001\n",
    "num_epoches=20\n",
    "optimizer=torch.optim.Adam(net.parameters(),lr=lr)\n",
    "for epoch in range(num_epoches):\n",
    "    train_l_sum, train_acc_sum, n=0.0,0.0,0\n",
    "    for X,y in data_iter:\n",
    "        X=X.to(device)\n",
    "        y=y.to(device)\n",
    "        y=y.reshape(len(y),-1)\n",
    "        y_hat=net(X)\n",
    "        l=loss(y_hat,y)\n",
    "        optimizer.zero_grad()\n",
    "        l.backward()\n",
    "        optimizer.step()\n",
    "        train_l_sum+=l.cpu().item()\n",
    "        n+=y.shape[0]\n",
    "    result.append(train_l_sum / n)\n",
    "    print('epoch %d, loss %.4f'%(epoch + 1, train_l_sum / n))"
   ]
  },
  {
   "cell_type": "code",
   "execution_count": null,
   "metadata": {},
   "outputs": [],
   "source": [
    "plt.plot(result)"
   ]
  },
  {
   "cell_type": "code",
   "execution_count": null,
   "metadata": {},
   "outputs": [],
   "source": []
  },
  {
   "cell_type": "code",
   "execution_count": null,
   "metadata": {},
   "outputs": [],
   "source": []
  },
  {
   "cell_type": "code",
   "execution_count": null,
   "metadata": {},
   "outputs": [],
   "source": []
  },
  {
   "cell_type": "code",
   "execution_count": null,
   "metadata": {},
   "outputs": [],
   "source": []
  },
  {
   "cell_type": "code",
   "execution_count": null,
   "metadata": {},
   "outputs": [],
   "source": []
  },
  {
   "cell_type": "code",
   "execution_count": null,
   "metadata": {},
   "outputs": [],
   "source": []
  },
  {
   "cell_type": "code",
   "execution_count": null,
   "metadata": {},
   "outputs": [],
   "source": []
  },
  {
   "cell_type": "code",
   "execution_count": null,
   "metadata": {},
   "outputs": [],
   "source": []
  },
  {
   "cell_type": "code",
   "execution_count": null,
   "metadata": {},
   "outputs": [],
   "source": []
  },
  {
   "cell_type": "code",
   "execution_count": null,
   "metadata": {},
   "outputs": [],
   "source": []
  },
  {
   "cell_type": "code",
   "execution_count": null,
   "metadata": {},
   "outputs": [],
   "source": []
  },
  {
   "cell_type": "code",
   "execution_count": null,
   "metadata": {},
   "outputs": [],
   "source": []
  },
  {
   "cell_type": "code",
   "execution_count": null,
   "metadata": {},
   "outputs": [],
   "source": []
  },
  {
   "cell_type": "code",
   "execution_count": null,
   "metadata": {},
   "outputs": [],
   "source": []
  },
  {
   "cell_type": "code",
   "execution_count": null,
   "metadata": {},
   "outputs": [],
   "source": []
  }
 ],
 "metadata": {
  "kernelspec": {
   "display_name": "Python 3",
   "language": "python",
   "name": "python3"
  },
  "language_info": {
   "codemirror_mode": {
    "name": "ipython",
    "version": 3
   },
   "file_extension": ".py",
   "mimetype": "text/x-python",
   "name": "python",
   "nbconvert_exporter": "python",
   "pygments_lexer": "ipython3",
   "version": "3.7.6"
  }
 },
 "nbformat": 4,
 "nbformat_minor": 4
}
