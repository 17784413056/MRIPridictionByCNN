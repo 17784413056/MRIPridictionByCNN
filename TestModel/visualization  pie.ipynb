{
 "cells": [
  {
   "cell_type": "code",
   "execution_count": 47,
   "metadata": {},
   "outputs": [],
   "source": [
    "from pathlib import Path\n",
    "from typing import List\n",
    "import gzip\n",
    "import numpy as np\n",
    "import pandas as pd\n",
    "\n",
    "import torch.utils.data as Data \n",
    "import torch\n",
    "import matplotlib.pyplot as plt\n",
    "from torch import nn ,optim\n",
    "from nilearn.image import smooth_img\n",
    "import plotly.graph_objs as go"
   ]
  },
  {
   "cell_type": "code",
   "execution_count": 100,
   "metadata": {},
   "outputs": [
    {
     "data": {
      "text/html": [
       "<div>\n",
       "<style scoped>\n",
       "    .dataframe tbody tr th:only-of-type {\n",
       "        vertical-align: middle;\n",
       "    }\n",
       "\n",
       "    .dataframe tbody tr th {\n",
       "        vertical-align: top;\n",
       "    }\n",
       "\n",
       "    .dataframe thead th {\n",
       "        text-align: right;\n",
       "    }\n",
       "</style>\n",
       "<table border=\"1\" class=\"dataframe\">\n",
       "  <thead>\n",
       "    <tr style=\"text-align: right;\">\n",
       "      <th></th>\n",
       "      <th>participant_id</th>\n",
       "      <th>age</th>\n",
       "      <th>sex</th>\n",
       "      <th>BMI</th>\n",
       "      <th>handedness</th>\n",
       "      <th>education_category</th>\n",
       "      <th>religious_now</th>\n",
       "      <th>raven_score</th>\n",
       "      <th>NEO_N</th>\n",
       "      <th>NEO_E</th>\n",
       "      <th>NEO_O</th>\n",
       "      <th>NEO_A</th>\n",
       "      <th>NEO_C</th>\n",
       "    </tr>\n",
       "  </thead>\n",
       "  <tbody>\n",
       "    <tr>\n",
       "      <th>0</th>\n",
       "      <td>sub-0001</td>\n",
       "      <td>26.25</td>\n",
       "      <td>F</td>\n",
       "      <td>24.0</td>\n",
       "      <td>right</td>\n",
       "      <td>applied</td>\n",
       "      <td>no</td>\n",
       "      <td>29.0</td>\n",
       "      <td>35</td>\n",
       "      <td>44</td>\n",
       "      <td>37</td>\n",
       "      <td>39</td>\n",
       "      <td>48</td>\n",
       "    </tr>\n",
       "    <tr>\n",
       "      <th>1</th>\n",
       "      <td>sub-0002</td>\n",
       "      <td>21.00</td>\n",
       "      <td>F</td>\n",
       "      <td>23.0</td>\n",
       "      <td>right</td>\n",
       "      <td>academic</td>\n",
       "      <td>no</td>\n",
       "      <td>27.0</td>\n",
       "      <td>27</td>\n",
       "      <td>53</td>\n",
       "      <td>40</td>\n",
       "      <td>48</td>\n",
       "      <td>34</td>\n",
       "    </tr>\n",
       "    <tr>\n",
       "      <th>2</th>\n",
       "      <td>sub-0003</td>\n",
       "      <td>23.00</td>\n",
       "      <td>M</td>\n",
       "      <td>22.0</td>\n",
       "      <td>right</td>\n",
       "      <td>academic</td>\n",
       "      <td>no</td>\n",
       "      <td>22.0</td>\n",
       "      <td>35</td>\n",
       "      <td>40</td>\n",
       "      <td>43</td>\n",
       "      <td>37</td>\n",
       "      <td>38</td>\n",
       "    </tr>\n",
       "    <tr>\n",
       "      <th>3</th>\n",
       "      <td>sub-0004</td>\n",
       "      <td>23.50</td>\n",
       "      <td>F</td>\n",
       "      <td>22.0</td>\n",
       "      <td>right</td>\n",
       "      <td>applied</td>\n",
       "      <td>no</td>\n",
       "      <td>21.0</td>\n",
       "      <td>29</td>\n",
       "      <td>47</td>\n",
       "      <td>41</td>\n",
       "      <td>48</td>\n",
       "      <td>41</td>\n",
       "    </tr>\n",
       "    <tr>\n",
       "      <th>4</th>\n",
       "      <td>sub-0005</td>\n",
       "      <td>21.75</td>\n",
       "      <td>M</td>\n",
       "      <td>19.0</td>\n",
       "      <td>ambidextrous</td>\n",
       "      <td>applied</td>\n",
       "      <td>no</td>\n",
       "      <td>28.0</td>\n",
       "      <td>26</td>\n",
       "      <td>35</td>\n",
       "      <td>40</td>\n",
       "      <td>38</td>\n",
       "      <td>45</td>\n",
       "    </tr>\n",
       "    <tr>\n",
       "      <th>...</th>\n",
       "      <td>...</td>\n",
       "      <td>...</td>\n",
       "      <td>...</td>\n",
       "      <td>...</td>\n",
       "      <td>...</td>\n",
       "      <td>...</td>\n",
       "      <td>...</td>\n",
       "      <td>...</td>\n",
       "      <td>...</td>\n",
       "      <td>...</td>\n",
       "      <td>...</td>\n",
       "      <td>...</td>\n",
       "      <td>...</td>\n",
       "    </tr>\n",
       "    <tr>\n",
       "      <th>211</th>\n",
       "      <td>sub-0212</td>\n",
       "      <td>20.50</td>\n",
       "      <td>F</td>\n",
       "      <td>29.0</td>\n",
       "      <td>ambidextrous</td>\n",
       "      <td>applied</td>\n",
       "      <td>no</td>\n",
       "      <td>19.0</td>\n",
       "      <td>24</td>\n",
       "      <td>44</td>\n",
       "      <td>29</td>\n",
       "      <td>47</td>\n",
       "      <td>41</td>\n",
       "    </tr>\n",
       "    <tr>\n",
       "      <th>212</th>\n",
       "      <td>sub-0213</td>\n",
       "      <td>19.75</td>\n",
       "      <td>M</td>\n",
       "      <td>26.0</td>\n",
       "      <td>right</td>\n",
       "      <td>applied</td>\n",
       "      <td>no</td>\n",
       "      <td>18.0</td>\n",
       "      <td>20</td>\n",
       "      <td>50</td>\n",
       "      <td>40</td>\n",
       "      <td>46</td>\n",
       "      <td>39</td>\n",
       "    </tr>\n",
       "    <tr>\n",
       "      <th>213</th>\n",
       "      <td>sub-0214</td>\n",
       "      <td>19.50</td>\n",
       "      <td>M</td>\n",
       "      <td>19.0</td>\n",
       "      <td>right</td>\n",
       "      <td>applied</td>\n",
       "      <td>no</td>\n",
       "      <td>19.0</td>\n",
       "      <td>24</td>\n",
       "      <td>50</td>\n",
       "      <td>37</td>\n",
       "      <td>46</td>\n",
       "      <td>56</td>\n",
       "    </tr>\n",
       "    <tr>\n",
       "      <th>214</th>\n",
       "      <td>sub-0215</td>\n",
       "      <td>18.25</td>\n",
       "      <td>F</td>\n",
       "      <td>20.0</td>\n",
       "      <td>right</td>\n",
       "      <td>applied</td>\n",
       "      <td>yes</td>\n",
       "      <td>24.0</td>\n",
       "      <td>33</td>\n",
       "      <td>42</td>\n",
       "      <td>42</td>\n",
       "      <td>41</td>\n",
       "      <td>48</td>\n",
       "    </tr>\n",
       "    <tr>\n",
       "      <th>215</th>\n",
       "      <td>sub-0216</td>\n",
       "      <td>20.50</td>\n",
       "      <td>F</td>\n",
       "      <td>21.0</td>\n",
       "      <td>right</td>\n",
       "      <td>academic</td>\n",
       "      <td>no</td>\n",
       "      <td>21.0</td>\n",
       "      <td>40</td>\n",
       "      <td>35</td>\n",
       "      <td>42</td>\n",
       "      <td>47</td>\n",
       "      <td>39</td>\n",
       "    </tr>\n",
       "  </tbody>\n",
       "</table>\n",
       "<p>208 rows × 13 columns</p>\n",
       "</div>"
      ],
      "text/plain": [
       "    participant_id    age sex   BMI    handedness education_category  \\\n",
       "0         sub-0001  26.25   F  24.0         right            applied   \n",
       "1         sub-0002  21.00   F  23.0         right           academic   \n",
       "2         sub-0003  23.00   M  22.0         right           academic   \n",
       "3         sub-0004  23.50   F  22.0         right            applied   \n",
       "4         sub-0005  21.75   M  19.0  ambidextrous            applied   \n",
       "..             ...    ...  ..   ...           ...                ...   \n",
       "211       sub-0212  20.50   F  29.0  ambidextrous            applied   \n",
       "212       sub-0213  19.75   M  26.0         right            applied   \n",
       "213       sub-0214  19.50   M  19.0         right            applied   \n",
       "214       sub-0215  18.25   F  20.0         right            applied   \n",
       "215       sub-0216  20.50   F  21.0         right           academic   \n",
       "\n",
       "    religious_now  raven_score  NEO_N  NEO_E  NEO_O  NEO_A  NEO_C  \n",
       "0              no         29.0     35     44     37     39     48  \n",
       "1              no         27.0     27     53     40     48     34  \n",
       "2              no         22.0     35     40     43     37     38  \n",
       "3              no         21.0     29     47     41     48     41  \n",
       "4              no         28.0     26     35     40     38     45  \n",
       "..            ...          ...    ...    ...    ...    ...    ...  \n",
       "211            no         19.0     24     44     29     47     41  \n",
       "212            no         18.0     20     50     40     46     39  \n",
       "213            no         19.0     24     50     37     46     56  \n",
       "214           yes         24.0     33     42     42     41     48  \n",
       "215            no         21.0     40     35     42     47     39  \n",
       "\n",
       "[208 rows x 13 columns]"
      ]
     },
     "execution_count": 100,
     "metadata": {},
     "output_type": "execute_result"
    }
   ],
   "source": [
    "data_participants_dir='E:/Data/participants1.tsv'#获取全部实验者的数据\n",
    "data_participants_tsv=pd.read_csv(data_participants_dir,sep='\\t')\n",
    "data_NoNaN=data_participants_tsv.dropna(axis=0,how='any')#去除NAN无效数据\n",
    "data_edu=data_NoNaN.education_category\n",
    "data_NoNaN"
   ]
  },
  {
   "cell_type": "code",
   "execution_count": 94,
   "metadata": {},
   "outputs": [],
   "source": [
    "plt.rcParams['font.sans-serif']=['SimHei']\n",
    "plt.rcParams['axes.unicode_minus'] = False"
   ]
  },
  {
   "cell_type": "code",
   "execution_count": 95,
   "metadata": {},
   "outputs": [
    {
     "data": {
      "text/plain": [
       "[120, 104]"
      ]
     },
     "execution_count": 95,
     "metadata": {},
     "output_type": "execute_result"
    }
   ],
   "source": [
    "count=[0,0]\n",
    "for i in data_edu:\n",
    "    if i=='applied':\n",
    "        count[0]+=1\n",
    "    \n",
    "    elif i=='academic':\n",
    "        count[1]+=1\n",
    "count"
   ]
  },
  {
   "cell_type": "code",
   "execution_count": 96,
   "metadata": {},
   "outputs": [],
   "source": [
    "labels=['applied','academic']"
   ]
  },
  {
   "cell_type": "code",
   "execution_count": 98,
   "metadata": {},
   "outputs": [
    {
     "data": {
      "image/png": "[encoded data removed]",
      "text/plain": [
       "<Figure size 432x288 with 1 Axes>"
      ]
     },
     "metadata": {},
     "output_type": "display_data"
    }
   ],
   "source": [
    "colors=['#9999ff','#ff9999']\n",
    "plt.rcParams['font.sans-serif'] = ['Microsoft YaHei']\n",
    "plt.rcParams['axes.unicode_minus'] = False\n",
    "\n",
    "# 将横、纵坐标轴标准化处理，保证饼图是一个正圆，否则为椭圆\n",
    "plt.axes(aspect='equal')\n",
    "\n",
    "# 控制x轴和y轴的范围\n",
    "plt.xlim(0,4)\n",
    "plt.ylim(0,4)\n",
    "plt.pie(x = count, # 绘图数据\n",
    "        labels=labels, # 添加教育水平标签\n",
    "        colors=colors, # 设置饼图的自定义填充色\n",
    "        autopct='%.1f%%', # 设置百分比的格式，这里保留一位小数\n",
    "        pctdistance=0.8,  # 设置百分比标签与圆心的距离\n",
    "        labeldistance = 1.15, # 设置教育水平标签与圆心的距离\n",
    "        startangle = 180, # 设置饼图的初始角度\n",
    "        radius = 1.5, # 设置饼图的半径\n",
    "        counterclock = False, # 是否逆时针，这里设置为顺时针方向\n",
    "        wedgeprops = {'linewidth': 1.5, 'edgecolor':'green'},# 设置饼图内外边界的属性值\n",
    "        textprops = {'fontsize':12, 'color':'k'}, # 设置文本标签的属性值\n",
    "        center = (1.8,1.8), # 设置饼图的原点\n",
    "        frame = 2)# 是否显示饼图的图框，这里设置显示\n",
    "\n",
    "# 删除x轴和y轴的刻度\n",
    "plt.xticks(())\n",
    "plt.yticks(())\n",
    "# 添加图标题\n",
    "plt.title('PIOP2 教育程度')\n",
    "\n",
    "# 显示图形\n",
    "plt.show()"
   ]
  },
  {
   "cell_type": "code",
   "execution_count": null,
   "metadata": {},
   "outputs": [],
   "source": []
  },
  {
   "cell_type": "code",
   "execution_count": null,
   "metadata": {},
   "outputs": [],
   "source": []
  },
  {
   "cell_type": "code",
   "execution_count": null,
   "metadata": {},
   "outputs": [],
   "source": []
  },
  {
   "cell_type": "code",
   "execution_count": null,
   "metadata": {},
   "outputs": [],
   "source": []
  },
  {
   "cell_type": "code",
   "execution_count": null,
   "metadata": {},
   "outputs": [],
   "source": []
  },
  {
   "cell_type": "code",
   "execution_count": null,
   "metadata": {},
   "outputs": [],
   "source": []
  },
  {
   "cell_type": "code",
   "execution_count": null,
   "metadata": {},
   "outputs": [],
   "source": []
  },
  {
   "cell_type": "code",
   "execution_count": null,
   "metadata": {},
   "outputs": [],
   "source": []
  },
  {
   "cell_type": "code",
   "execution_count": null,
   "metadata": {},
   "outputs": [],
   "source": []
  },
  {
   "cell_type": "code",
   "execution_count": null,
   "metadata": {},
   "outputs": [],
   "source": []
  },
  {
   "cell_type": "code",
   "execution_count": null,
   "metadata": {},
   "outputs": [],
   "source": []
  },
  {
   "cell_type": "code",
   "execution_count": null,
   "metadata": {},
   "outputs": [],
   "source": []
  },
  {
   "cell_type": "code",
   "execution_count": null,
   "metadata": {},
   "outputs": [],
   "source": []
  },
  {
   "cell_type": "code",
   "execution_count": null,
   "metadata": {},
   "outputs": [],
   "source": []
  },
  {
   "cell_type": "code",
   "execution_count": null,
   "metadata": {},
   "outputs": [],
   "source": []
  },
  {
   "cell_type": "code",
   "execution_count": null,
   "metadata": {},
   "outputs": [],
   "source": []
  },
  {
   "cell_type": "code",
   "execution_count": null,
   "metadata": {},
   "outputs": [],
   "source": []
  },
  {
   "cell_type": "code",
   "execution_count": null,
   "metadata": {},
   "outputs": [],
   "source": []
  },
  {
   "cell_type": "code",
   "execution_count": null,
   "metadata": {},
   "outputs": [],
   "source": []
  },
  {
   "cell_type": "code",
   "execution_count": null,
   "metadata": {},
   "outputs": [],
   "source": []
  },
  {
   "cell_type": "code",
   "execution_count": null,
   "metadata": {},
   "outputs": [],
   "source": []
  },
  {
   "cell_type": "code",
   "execution_count": null,
   "metadata": {},
   "outputs": [],
   "source": []
  },
  {
   "cell_type": "code",
   "execution_count": null,
   "metadata": {},
   "outputs": [],
   "source": []
  },
  {
   "cell_type": "code",
   "execution_count": null,
   "metadata": {},
   "outputs": [],
   "source": []
  },
  {
   "cell_type": "code",
   "execution_count": null,
   "metadata": {},
   "outputs": [],
   "source": []
  },
  {
   "cell_type": "code",
   "execution_count": null,
   "metadata": {},
   "outputs": [],
   "source": []
  },
  {
   "cell_type": "code",
   "execution_count": null,
   "metadata": {},
   "outputs": [],
   "source": []
  },
  {
   "cell_type": "code",
   "execution_count": null,
   "metadata": {},
   "outputs": [],
   "source": []
  },
  {
   "cell_type": "code",
   "execution_count": null,
   "metadata": {},
   "outputs": [],
   "source": []
  },
  {
   "cell_type": "code",
   "execution_count": null,
   "metadata": {},
   "outputs": [],
   "source": []
  },
  {
   "cell_type": "code",
   "execution_count": null,
   "metadata": {},
   "outputs": [],
   "source": []
  },
  {
   "cell_type": "code",
   "execution_count": null,
   "metadata": {},
   "outputs": [],
   "source": []
  },
  {
   "cell_type": "code",
   "execution_count": null,
   "metadata": {},
   "outputs": [],
   "source": []
  },
  {
   "cell_type": "code",
   "execution_count": null,
   "metadata": {},
   "outputs": [],
   "source": []
  },
  {
   "cell_type": "code",
   "execution_count": null,
   "metadata": {},
   "outputs": [],
   "source": []
  },
  {
   "cell_type": "code",
   "execution_count": null,
   "metadata": {},
   "outputs": [],
   "source": []
  },
  {
   "cell_type": "code",
   "execution_count": null,
   "metadata": {},
   "outputs": [],
   "source": []
  },
  {
   "cell_type": "code",
   "execution_count": null,
   "metadata": {},
   "outputs": [],
   "source": []
  },
  {
   "cell_type": "code",
   "execution_count": null,
   "metadata": {},
   "outputs": [],
   "source": []
  }
 ],
 "metadata": {
  "kernelspec": {
   "display_name": "Python 3",
   "language": "python",
   "name": "python3"
  },
  "language_info": {
   "codemirror_mode": {
    "name": "ipython",
    "version": 3
   },
   "file_extension": ".py",
   "mimetype": "text/x-python",
   "name": "python",
   "nbconvert_exporter": "python",
   "pygments_lexer": "ipython3",
   "version": "3.7.6"
  }
 },
 "nbformat": 4,
 "nbformat_minor": 4
}
