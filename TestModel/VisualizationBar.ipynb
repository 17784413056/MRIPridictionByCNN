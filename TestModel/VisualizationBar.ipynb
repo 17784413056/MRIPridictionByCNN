{
 "cells": [
  {
   "cell_type": "code",
   "execution_count": 95,
   "metadata": {},
   "outputs": [],
   "source": [
    "from pathlib import Path\n",
    "from typing import List\n",
    "import gzip\n",
    "import numpy as np\n",
    "import pandas as pd\n",
    "\n",
    "import torch.utils.data as Data \n",
    "import torch\n",
    "import matplotlib.pyplot as plt\n",
    "from torch import nn ,optim\n",
    "from nilearn.image import smooth_img"
   ]
  },
  {
   "cell_type": "code",
   "execution_count": 2,
   "metadata": {},
   "outputs": [
    {
     "name": "stdout",
     "output_type": "stream",
     "text": [
      "GPU获取\n"
     ]
    }
   ],
   "source": [
    "if torch.cuda.is_available():\n",
    "    device=torch.device('cuda')\n",
    "    print(\"GPU获取\")"
   ]
  },
  {
   "cell_type": "code",
   "execution_count": 3,
   "metadata": {},
   "outputs": [
    {
     "data": {
      "text/html": [
       "<div>\n",
       "<style scoped>\n",
       "    .dataframe tbody tr th:only-of-type {\n",
       "        vertical-align: middle;\n",
       "    }\n",
       "\n",
       "    .dataframe tbody tr th {\n",
       "        vertical-align: top;\n",
       "    }\n",
       "\n",
       "    .dataframe thead th {\n",
       "        text-align: right;\n",
       "    }\n",
       "</style>\n",
       "<table border=\"1\" class=\"dataframe\">\n",
       "  <thead>\n",
       "    <tr style=\"text-align: right;\">\n",
       "      <th></th>\n",
       "      <th>participant_id</th>\n",
       "      <th>age</th>\n",
       "      <th>sex</th>\n",
       "      <th>BMI</th>\n",
       "      <th>handedness</th>\n",
       "      <th>education_category</th>\n",
       "      <th>religious_now</th>\n",
       "      <th>raven_score</th>\n",
       "      <th>NEO_N</th>\n",
       "      <th>NEO_E</th>\n",
       "      <th>NEO_O</th>\n",
       "      <th>NEO_A</th>\n",
       "      <th>NEO_C</th>\n",
       "    </tr>\n",
       "  </thead>\n",
       "  <tbody>\n",
       "    <tr>\n",
       "      <th>0</th>\n",
       "      <td>sub-0001</td>\n",
       "      <td>26.25</td>\n",
       "      <td>F</td>\n",
       "      <td>24.0</td>\n",
       "      <td>right</td>\n",
       "      <td>applied</td>\n",
       "      <td>no</td>\n",
       "      <td>29.0</td>\n",
       "      <td>35</td>\n",
       "      <td>44</td>\n",
       "      <td>37</td>\n",
       "      <td>39</td>\n",
       "      <td>48</td>\n",
       "    </tr>\n",
       "    <tr>\n",
       "      <th>1</th>\n",
       "      <td>sub-0002</td>\n",
       "      <td>21.00</td>\n",
       "      <td>F</td>\n",
       "      <td>23.0</td>\n",
       "      <td>right</td>\n",
       "      <td>academic</td>\n",
       "      <td>no</td>\n",
       "      <td>27.0</td>\n",
       "      <td>27</td>\n",
       "      <td>53</td>\n",
       "      <td>40</td>\n",
       "      <td>48</td>\n",
       "      <td>34</td>\n",
       "    </tr>\n",
       "    <tr>\n",
       "      <th>2</th>\n",
       "      <td>sub-0003</td>\n",
       "      <td>23.00</td>\n",
       "      <td>M</td>\n",
       "      <td>22.0</td>\n",
       "      <td>right</td>\n",
       "      <td>academic</td>\n",
       "      <td>no</td>\n",
       "      <td>22.0</td>\n",
       "      <td>35</td>\n",
       "      <td>40</td>\n",
       "      <td>43</td>\n",
       "      <td>37</td>\n",
       "      <td>38</td>\n",
       "    </tr>\n",
       "    <tr>\n",
       "      <th>3</th>\n",
       "      <td>sub-0004</td>\n",
       "      <td>23.50</td>\n",
       "      <td>F</td>\n",
       "      <td>22.0</td>\n",
       "      <td>right</td>\n",
       "      <td>applied</td>\n",
       "      <td>no</td>\n",
       "      <td>21.0</td>\n",
       "      <td>29</td>\n",
       "      <td>47</td>\n",
       "      <td>41</td>\n",
       "      <td>48</td>\n",
       "      <td>41</td>\n",
       "    </tr>\n",
       "    <tr>\n",
       "      <th>4</th>\n",
       "      <td>sub-0005</td>\n",
       "      <td>21.75</td>\n",
       "      <td>M</td>\n",
       "      <td>19.0</td>\n",
       "      <td>ambidextrous</td>\n",
       "      <td>applied</td>\n",
       "      <td>no</td>\n",
       "      <td>28.0</td>\n",
       "      <td>26</td>\n",
       "      <td>35</td>\n",
       "      <td>40</td>\n",
       "      <td>38</td>\n",
       "      <td>45</td>\n",
       "    </tr>\n",
       "    <tr>\n",
       "      <th>...</th>\n",
       "      <td>...</td>\n",
       "      <td>...</td>\n",
       "      <td>...</td>\n",
       "      <td>...</td>\n",
       "      <td>...</td>\n",
       "      <td>...</td>\n",
       "      <td>...</td>\n",
       "      <td>...</td>\n",
       "      <td>...</td>\n",
       "      <td>...</td>\n",
       "      <td>...</td>\n",
       "      <td>...</td>\n",
       "      <td>...</td>\n",
       "    </tr>\n",
       "    <tr>\n",
       "      <th>211</th>\n",
       "      <td>sub-0212</td>\n",
       "      <td>20.50</td>\n",
       "      <td>F</td>\n",
       "      <td>29.0</td>\n",
       "      <td>ambidextrous</td>\n",
       "      <td>applied</td>\n",
       "      <td>no</td>\n",
       "      <td>19.0</td>\n",
       "      <td>24</td>\n",
       "      <td>44</td>\n",
       "      <td>29</td>\n",
       "      <td>47</td>\n",
       "      <td>41</td>\n",
       "    </tr>\n",
       "    <tr>\n",
       "      <th>212</th>\n",
       "      <td>sub-0213</td>\n",
       "      <td>19.75</td>\n",
       "      <td>M</td>\n",
       "      <td>26.0</td>\n",
       "      <td>right</td>\n",
       "      <td>applied</td>\n",
       "      <td>no</td>\n",
       "      <td>18.0</td>\n",
       "      <td>20</td>\n",
       "      <td>50</td>\n",
       "      <td>40</td>\n",
       "      <td>46</td>\n",
       "      <td>39</td>\n",
       "    </tr>\n",
       "    <tr>\n",
       "      <th>213</th>\n",
       "      <td>sub-0214</td>\n",
       "      <td>19.50</td>\n",
       "      <td>M</td>\n",
       "      <td>19.0</td>\n",
       "      <td>right</td>\n",
       "      <td>applied</td>\n",
       "      <td>no</td>\n",
       "      <td>19.0</td>\n",
       "      <td>24</td>\n",
       "      <td>50</td>\n",
       "      <td>37</td>\n",
       "      <td>46</td>\n",
       "      <td>56</td>\n",
       "    </tr>\n",
       "    <tr>\n",
       "      <th>214</th>\n",
       "      <td>sub-0215</td>\n",
       "      <td>18.25</td>\n",
       "      <td>F</td>\n",
       "      <td>20.0</td>\n",
       "      <td>right</td>\n",
       "      <td>applied</td>\n",
       "      <td>yes</td>\n",
       "      <td>24.0</td>\n",
       "      <td>33</td>\n",
       "      <td>42</td>\n",
       "      <td>42</td>\n",
       "      <td>41</td>\n",
       "      <td>48</td>\n",
       "    </tr>\n",
       "    <tr>\n",
       "      <th>215</th>\n",
       "      <td>sub-0216</td>\n",
       "      <td>20.50</td>\n",
       "      <td>F</td>\n",
       "      <td>21.0</td>\n",
       "      <td>right</td>\n",
       "      <td>academic</td>\n",
       "      <td>no</td>\n",
       "      <td>21.0</td>\n",
       "      <td>40</td>\n",
       "      <td>35</td>\n",
       "      <td>42</td>\n",
       "      <td>47</td>\n",
       "      <td>39</td>\n",
       "    </tr>\n",
       "  </tbody>\n",
       "</table>\n",
       "<p>208 rows × 13 columns</p>\n",
       "</div>"
      ],
      "text/plain": [
       "    participant_id    age sex   BMI    handedness education_category  \\\n",
       "0         sub-0001  26.25   F  24.0         right            applied   \n",
       "1         sub-0002  21.00   F  23.0         right           academic   \n",
       "2         sub-0003  23.00   M  22.0         right           academic   \n",
       "3         sub-0004  23.50   F  22.0         right            applied   \n",
       "4         sub-0005  21.75   M  19.0  ambidextrous            applied   \n",
       "..             ...    ...  ..   ...           ...                ...   \n",
       "211       sub-0212  20.50   F  29.0  ambidextrous            applied   \n",
       "212       sub-0213  19.75   M  26.0         right            applied   \n",
       "213       sub-0214  19.50   M  19.0         right            applied   \n",
       "214       sub-0215  18.25   F  20.0         right            applied   \n",
       "215       sub-0216  20.50   F  21.0         right           academic   \n",
       "\n",
       "    religious_now  raven_score  NEO_N  NEO_E  NEO_O  NEO_A  NEO_C  \n",
       "0              no         29.0     35     44     37     39     48  \n",
       "1              no         27.0     27     53     40     48     34  \n",
       "2              no         22.0     35     40     43     37     38  \n",
       "3              no         21.0     29     47     41     48     41  \n",
       "4              no         28.0     26     35     40     38     45  \n",
       "..            ...          ...    ...    ...    ...    ...    ...  \n",
       "211            no         19.0     24     44     29     47     41  \n",
       "212            no         18.0     20     50     40     46     39  \n",
       "213            no         19.0     24     50     37     46     56  \n",
       "214           yes         24.0     33     42     42     41     48  \n",
       "215            no         21.0     40     35     42     47     39  \n",
       "\n",
       "[208 rows x 13 columns]"
      ]
     },
     "metadata": {},
     "output_type": "display_data"
    }
   ],
   "source": [
    "data_participants_dir='E:/Data/participants1.tsv'#获取全部实验者的数据\n",
    "data_participants_tsv=pd.read_csv(data_participants_dir,sep='\\t')\n",
    "data_NoNaN=data_participants_tsv.dropna(axis=0,how='any')#去除NAN无效数据\n",
    "data_id=data_NoNaN.participant_id\n",
    "data_age=data_NoNaN.age\n",
    "display(data_NoNaN)"
   ]
  },
  {
   "cell_type": "code",
   "execution_count": null,
   "metadata": {},
   "outputs": [],
   "source": []
  },
  {
   "cell_type": "code",
   "execution_count": 4,
   "metadata": {},
   "outputs": [],
   "source": [
    "plt.rcParams['font.sans-serif']=['SimHei']\n",
    "plt.rcParams['axes.unicode_minus'] = False"
   ]
  },
  {
   "cell_type": "code",
   "execution_count": 9,
   "metadata": {},
   "outputs": [],
   "source": [
    "def create_age_array(count,data):\n",
    "    for i in data:\n",
    "        if i<=20:\n",
    "            count[0]+=1\n",
    "        elif i<=21:\n",
    "            count[1]+=1\n",
    "        elif i<=22:\n",
    "            count[2]+=1\n",
    "        elif i<=23:\n",
    "            count[3]+=1\n",
    "        elif i<=24:\n",
    "            count[4]+=1\n",
    "        elif i<=25:\n",
    "            count[5]+=1\n",
    "        else:\n",
    "            count[6]+=1\n",
    "    return count"
   ]
  },
  {
   "cell_type": "code",
   "execution_count": 42,
   "metadata": {},
   "outputs": [
    {
     "data": {
      "text/plain": [
       "<BarContainer object of 7 artists>"
      ]
     },
     "execution_count": 42,
     "metadata": {},
     "output_type": "execute_result"
    },
    {
     "data": {
      "image/png": "[encoded data removed]",
      "text/plain": [
       "<Figure size 432x288 with 1 Axes>"
      ]
     },
     "metadata": {
      "needs_background": "light"
     },
     "output_type": "display_data"
    }
   ],
   "source": [
    "count=np.array([0,0,0,0,0,0,0])\n",
    "count=create_age_array(count,data_age)\n",
    "name_list = ['20岁以下','21岁','22岁','23岁','24岁','25岁','26岁以上']  \n",
    "plt.bar(range(len(name_list)), count,tick_label=name_list) "
   ]
  },
  {
   "cell_type": "code",
   "execution_count": 57,
   "metadata": {},
   "outputs": [
    {
     "data": {
      "text/plain": [
       "array([31, 30, 37, 48, 29, 24,  9])"
      ]
     },
     "execution_count": 57,
     "metadata": {},
     "output_type": "execute_result"
    }
   ],
   "source": [
    "count"
   ]
  },
  {
   "cell_type": "code",
   "execution_count": 17,
   "metadata": {},
   "outputs": [
    {
     "data": {
      "text/plain": [
       "224"
      ]
     },
     "execution_count": 17,
     "metadata": {},
     "output_type": "execute_result"
    }
   ],
   "source": [
    "data2_participants_dir='E:/Data/participants2.tsv'#获取全部实验者的数据\n",
    "data2_participants_tsv=pd.read_csv(data2_participants_dir,sep='\\t')\n",
    "data2_NoNaN=data2_participants_tsv.dropna(axis=0,how='any')#去除NAN无效数据\n",
    "data2_id=data2_NoNaN.participant_id\n",
    "data2_age=data2_NoNaN.age\n",
    "len(data2_age)"
   ]
  },
  {
   "cell_type": "code",
   "execution_count": 65,
   "metadata": {},
   "outputs": [
    {
     "data": {
      "text/plain": [
       "array([35, 50, 37, 41, 28, 27,  6])"
      ]
     },
     "execution_count": 65,
     "metadata": {},
     "output_type": "execute_result"
    }
   ],
   "source": [
    "count2=np.array([0,0,0,0,0,0,0])\n",
    "count2=create_age_array(count2,data2_age)\n",
    "name_list2 = ['20岁以下','21岁','22岁','23岁','24岁','25岁','26岁以上']  \n",
    "count2"
   ]
  },
  {
   "cell_type": "code",
   "execution_count": 70,
   "metadata": {},
   "outputs": [
    {
     "data": {
      "text/plain": [
       "<matplotlib.legend.Legend at 0x1a838b62f48>"
      ]
     },
     "execution_count": 70,
     "metadata": {},
     "output_type": "execute_result"
    },
    {
     "data": {
      "image/png": "[encoded data removed]",
      "text/plain": [
       "<Figure size 432x288 with 1 Axes>"
      ]
     },
     "metadata": {
      "needs_background": "light"
     },
     "output_type": "display_data"
    }
   ],
   "source": [
    "width=0.4\n",
    "x =list(range(len(name_list)))  \n",
    "plt.bar(x, count, width=width, label='PIOP1',fc = 'y')\n",
    "for i in range(len(x)):  \n",
    "    x[i] = x[i] + width  \n",
    "plt.bar(x, count2, width=width, label='PIPO2',tick_label = name_list,fc = 'r')\n",
    "plt.legend()  \n"
   ]
  },
  {
   "cell_type": "code",
   "execution_count": 77,
   "metadata": {},
   "outputs": [],
   "source": [
    "data_BMI=data_NoNaN.BMI\n",
    "\n",
    "data_BMI_int=data_BMI.astype(np.int16)"
   ]
  },
  {
   "cell_type": "code",
   "execution_count": 87,
   "metadata": {},
   "outputs": [],
   "source": [
    "def create_BMI_array(count,data):\n",
    "    for i in data:\n",
    "        if i<=18:\n",
    "            count[0]+=1\n",
    "        elif i>=29:\n",
    "            count[11]+=1\n",
    "        else :\n",
    "            \n",
    "            count[i-18]+=1\n",
    "         \n",
    "    return count"
   ]
  },
  {
   "cell_type": "code",
   "execution_count": 92,
   "metadata": {},
   "outputs": [
    {
     "name": "stdout",
     "output_type": "stream",
     "text": [
      "1\n"
     ]
    }
   ],
   "source": []
  },
  {
   "cell_type": "code",
   "execution_count": 88,
   "metadata": {},
   "outputs": [
    {
     "data": {
      "text/plain": [
       "array([ 4, 23, 30, 34, 35, 33, 19, 16,  4,  1,  4,  5])"
      ]
     },
     "execution_count": 88,
     "metadata": {},
     "output_type": "execute_result"
    }
   ],
   "source": [
    "count=np.array([0,0,0,0,0,0,0,0,0,0,0,0])\n",
    "count=create_BMI_array(count,data_BMI_int)\n",
    "name_list = ['18以下','19','20','21','22','23','24','25','26','27','28','29以上']  \n",
    "count"
   ]
  },
  {
   "cell_type": "code",
   "execution_count": 93,
   "metadata": {},
   "outputs": [
    {
     "data": {
      "text/plain": [
       "array([10, 19, 24, 26, 36, 38, 23, 18, 12,  7,  4,  7])"
      ]
     },
     "execution_count": 93,
     "metadata": {},
     "output_type": "execute_result"
    }
   ],
   "source": [
    "data2_BMI=data2_NoNaN.BMI\n",
    "data2_BMI_int=data2_BMI.astype(np.int16)\n",
    "count2=np.array([0,0,0,0,0,0,0,0,0,0,0,0])\n",
    "count2=create_BMI_array(count2,data2_BMI_int)\n",
    "name_list = ['18以下','19','20','21','22','23','24','25','26','27','28','29以上'] \n",
    "count2"
   ]
  },
  {
   "cell_type": "code",
   "execution_count": 94,
   "metadata": {},
   "outputs": [
    {
     "data": {
      "text/plain": [
       "<matplotlib.legend.Legend at 0x276192191c8>"
      ]
     },
     "execution_count": 94,
     "metadata": {},
     "output_type": "execute_result"
    },
    {
     "data": {
      "image/png": "[encoded data removed]",
      "text/plain": [
       "<Figure size 432x288 with 1 Axes>"
      ]
     },
     "metadata": {
      "needs_background": "light"
     },
     "output_type": "display_data"
    }
   ],
   "source": [
    "width=0.4\n",
    "x =list(range(len(name_list)))  \n",
    "plt.bar(x, count, width=width, label='PIOP1',fc = 'b')\n",
    "for i in range(len(x)):  \n",
    "    x[i] = x[i] + width  \n",
    "plt.bar(x, count2, width=width, label='PIPO2',tick_label = name_list,fc = 'r')\n",
    "plt.legend() "
   ]
  },
  {
   "cell_type": "code",
   "execution_count": 57,
   "metadata": {},
   "outputs": [
    {
     "name": "stdout",
     "output_type": "stream",
     "text": [
      "21.0\n",
      "22.0\n",
      "23.0\n",
      "18.0\n",
      "27.0\n",
      "22.0\n",
      "23.0\n",
      "23.0\n",
      "23.0\n",
      "21.0\n",
      "21.0\n",
      "26.0\n",
      "19.0\n",
      "20.0\n",
      "16.0\n",
      "24.0\n",
      "26.0\n",
      "25.0\n",
      "25.0\n",
      "23.0\n",
      "30.0\n",
      "24.0\n",
      "21.0\n",
      "24.0\n",
      "21.0\n",
      "23.0\n",
      "19.0\n",
      "22.0\n",
      "23.0\n",
      "20.0\n",
      "18.0\n",
      "22.0\n",
      "19.0\n",
      "23.0\n",
      "25.0\n",
      "43.0\n",
      "24.0\n",
      "25.0\n",
      "21.0\n",
      "19.0\n",
      "18.0\n",
      "19.0\n",
      "19.0\n",
      "22.0\n",
      "25.0\n",
      "19.0\n",
      "20.0\n",
      "23.0\n",
      "23.0\n",
      "20.0\n",
      "21.0\n",
      "24.0\n",
      "26.0\n",
      "21.0\n",
      "27.0\n",
      "20.0\n",
      "27.0\n",
      "24.0\n",
      "22.0\n",
      "26.0\n",
      "28.0\n",
      "22.0\n",
      "20.0\n",
      "24.0\n",
      "24.0\n",
      "20.0\n",
      "21.0\n",
      "29.0\n",
      "23.0\n",
      "19.0\n",
      "26.0\n",
      "17.0\n",
      "27.0\n",
      "22.0\n",
      "21.0\n",
      "23.0\n",
      "19.0\n",
      "24.0\n",
      "23.0\n",
      "30.0\n",
      "22.0\n",
      "25.0\n",
      "25.0\n",
      "24.0\n",
      "18.0\n",
      "19.0\n",
      "25.0\n",
      "23.0\n",
      "19.0\n",
      "22.0\n",
      "20.0\n",
      "25.0\n",
      "20.0\n",
      "22.0\n",
      "20.0\n",
      "28.0\n",
      "20.0\n",
      "23.0\n",
      "25.0\n",
      "22.0\n",
      "20.0\n",
      "22.0\n",
      "22.0\n",
      "23.0\n",
      "23.0\n",
      "19.0\n",
      "23.0\n",
      "21.0\n",
      "22.0\n",
      "22.0\n",
      "22.0\n",
      "23.0\n",
      "24.0\n",
      "23.0\n",
      "18.0\n",
      "17.0\n",
      "21.0\n",
      "18.0\n",
      "22.0\n",
      "26.0\n",
      "26.0\n",
      "22.0\n",
      "23.0\n",
      "24.0\n",
      "22.0\n",
      "23.0\n",
      "23.0\n",
      "29.0\n",
      "20.0\n",
      "24.0\n",
      "22.0\n",
      "23.0\n",
      "25.0\n",
      "30.0\n",
      "20.0\n",
      "20.0\n",
      "22.0\n",
      "19.0\n",
      "21.0\n",
      "25.0\n",
      "25.0\n",
      "18.0\n",
      "20.0\n",
      "19.0\n",
      "19.0\n",
      "26.0\n",
      "24.0\n",
      "28.0\n",
      "20.0\n",
      "23.0\n",
      "21.0\n",
      "26.0\n",
      "22.0\n",
      "22.0\n",
      "19.0\n",
      "33.0\n",
      "22.0\n",
      "24.0\n",
      "22.0\n",
      "25.0\n",
      "23.0\n",
      "23.0\n",
      "21.0\n",
      "22.0\n",
      "27.0\n",
      "23.0\n",
      "20.0\n",
      "27.0\n",
      "23.0\n",
      "21.0\n",
      "24.0\n",
      "20.0\n",
      "22.0\n",
      "27.0\n",
      "19.0\n",
      "23.0\n",
      "20.0\n",
      "25.0\n",
      "22.0\n",
      "21.0\n",
      "23.0\n",
      "24.0\n",
      "20.0\n",
      "21.0\n",
      "23.0\n",
      "26.0\n",
      "21.0\n",
      "19.0\n",
      "24.0\n",
      "24.0\n",
      "21.0\n",
      "21.0\n",
      "23.0\n",
      "26.0\n",
      "24.0\n",
      "22.0\n",
      "24.0\n",
      "21.0\n",
      "24.0\n",
      "22.0\n",
      "19.0\n",
      "24.0\n",
      "21.0\n",
      "25.0\n",
      "25.0\n",
      "23.0\n",
      "22.0\n",
      "23.0\n",
      "21.0\n",
      "26.0\n",
      "22.0\n",
      "21.0\n",
      "23.0\n",
      "21.0\n",
      "22.0\n",
      "22.0\n",
      "23.0\n",
      "22.0\n",
      "25.0\n",
      "20.0\n",
      "23.0\n",
      "20.0\n",
      "28.0\n",
      "20.0\n"
     ]
    }
   ],
   "source": []
  },
  {
   "cell_type": "code",
   "execution_count": null,
   "metadata": {},
   "outputs": [],
   "source": []
  },
  {
   "cell_type": "code",
   "execution_count": null,
   "metadata": {},
   "outputs": [],
   "source": []
  },
  {
   "cell_type": "code",
   "execution_count": null,
   "metadata": {},
   "outputs": [],
   "source": []
  },
  {
   "cell_type": "code",
   "execution_count": null,
   "metadata": {},
   "outputs": [],
   "source": []
  },
  {
   "cell_type": "code",
   "execution_count": null,
   "metadata": {},
   "outputs": [],
   "source": []
  },
  {
   "cell_type": "code",
   "execution_count": null,
   "metadata": {},
   "outputs": [],
   "source": []
  },
  {
   "cell_type": "code",
   "execution_count": null,
   "metadata": {},
   "outputs": [],
   "source": []
  },
  {
   "cell_type": "code",
   "execution_count": null,
   "metadata": {},
   "outputs": [],
   "source": []
  },
  {
   "cell_type": "code",
   "execution_count": null,
   "metadata": {},
   "outputs": [],
   "source": []
  },
  {
   "cell_type": "code",
   "execution_count": null,
   "metadata": {},
   "outputs": [],
   "source": []
  }
 ],
 "metadata": {
  "kernelspec": {
   "display_name": "Python 3",
   "language": "python",
   "name": "python3"
  },
  "language_info": {
   "codemirror_mode": {
    "name": "ipython",
    "version": 3
   },
   "file_extension": ".py",
   "mimetype": "text/x-python",
   "name": "python",
   "nbconvert_exporter": "python",
   "pygments_lexer": "ipython3",
   "version": "3.7.6"
  }
 },
 "nbformat": 4,
 "nbformat_minor": 4
}
